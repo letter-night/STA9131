{
 "cells": [
  {
   "cell_type": "markdown",
   "metadata": {
    "button": false,
    "deletable": true,
    "id": "DDJwQPZcupab",
    "new_sheet": false,
    "run_control": {
     "read_only": false
    }
   },
   "source": [
    "# STA9131 Assignment 3-2: Convolutional Neural Networks and Batch Normalization\n",
    "\n",
    "Before we start, please put your name, ID number, option (and your group members', if any) in following format: e.g., <br>\n",
    "```\n",
    "name = 'Kibok Lee'\n",
    "idnum = '2022123456'\n",
    "option = '1'\n",
    "group = {\n",
    "    '2022123457': 'Alice Ahn',\n",
    "    '2022123458': 'Bob Bae',\n",
    "    '2022123459': 'Carol Choi',\n",
    "}\n",
    "```"
   ]
  },
  {
   "cell_type": "code",
   "execution_count": null,
   "metadata": {
    "id": "GjRL_7hwMfex"
   },
   "outputs": [],
   "source": [
    "# TODO: Put your name, id number, option (and your group members', if any):\n",
    "# option 1 : You did your assignment yourself.\n",
    "# option 2 : You didn't do your assignment yourself,\n",
    "#            but you added your own comment to show your understanding.\n",
    "# option 2L: You referred to LLMs, e.g., ChatGPT,\n",
    "#            but you added your own comment to show your understanding,\n",
    "#            and you submit a report (in pdf) with all your queries & outputs.\n",
    "name = 'Your Name'\n",
    "idnum = '2022123456'\n",
    "option = '1'\n",
    "group = {}"
   ]
  },
  {
   "cell_type": "markdown",
   "metadata": {
    "button": false,
    "deletable": true,
    "id": "FrfeHl_-m4V-",
    "new_sheet": false,
    "run_control": {
     "read_only": false
    }
   },
   "source": [
    "# Setup Code\n",
    "Before getting started, we need to run some boilerplate code to set up our environment. You'll need to rerun this setup code each time you start the notebook.\n",
    "\n",
    "First, run this cell load the [autoreload](https://ipython.readthedocs.io/en/stable/config/extensions/autoreload.html?highlight=autoreload) extension. This allows us to edit `.py` source files, and re-import them into the notebook for a seamless editing and debugging experience."
   ]
  },
  {
   "cell_type": "code",
   "execution_count": null,
   "metadata": {
    "button": false,
    "deletable": true,
    "id": "VyQblYp0nEZq",
    "new_sheet": false,
    "run_control": {
     "read_only": false
    }
   },
   "outputs": [],
   "source": [
    "%load_ext autoreload\n",
    "%autoreload 2"
   ]
  },
  {
   "cell_type": "markdown",
   "metadata": {
    "button": false,
    "deletable": true,
    "id": "Q7ymI0aZ2W1b",
    "new_sheet": false,
    "run_control": {
     "read_only": false
    }
   },
   "source": [
    "## Google Colab Setup\n",
    "Next, we need to run a few commands to set up our environment on Google Colab. If you are running this notebook on a local machine, you can skip this section.\n",
    "\n",
    "Run the following cell to mount your Google Drive. Follow the link, sign in to your Google account (the same account you used to store this notebook!) and copy the authorization code into the text box that appears below."
   ]
  },
  {
   "cell_type": "code",
   "execution_count": null,
   "metadata": {
    "button": false,
    "deletable": true,
    "id": "c_LLpLyC2eau",
    "new_sheet": false,
    "run_control": {
     "read_only": false
    }
   },
   "outputs": [],
   "source": [
    "from google.colab import drive\n",
    "drive.mount('/content/drive')"
   ]
  },
  {
   "cell_type": "markdown",
   "metadata": {
    "button": false,
    "deletable": true,
    "id": "mbq-UT8J2mnv",
    "new_sheet": false,
    "run_control": {
     "read_only": false
    }
   },
   "source": [
    "Now, recall the path in your Google Drive where you uploaded this notebook, fill it in below. If everything is working correctly, then running the following cell should print the filenames from the assignment:\n",
    "\n",
    "```\n",
    "['a3_helpers.py', 'assets', 'common', 'convolutional_networks.ipynb', 'convolutional_networks.py', 'fully_connected_networks.ipynb', 'fully_connected_networks.py']\n",
    "```"
   ]
  },
  {
   "cell_type": "code",
   "execution_count": null,
   "metadata": {
    "button": false,
    "deletable": true,
    "id": "WcrhTOZW243H",
    "new_sheet": false,
    "run_control": {
     "read_only": false
    }
   },
   "outputs": [],
   "source": [
    "import os\n",
    "\n",
    "# TODO: Fill in the Google Drive path where you uploaded the assignment.\n",
    "# Example: If you create a STA9131 folder and put all the files under A3 folder, then 'STA9131/A3'\n",
    "GOOGLE_DRIVE_PATH_AFTER_MYDRIVE = None\n",
    "\n",
    "GOOGLE_DRIVE_PATH = os.path.join('/content/drive/MyDrive', GOOGLE_DRIVE_PATH_AFTER_MYDRIVE)\n",
    "print(sorted(os.listdir(GOOGLE_DRIVE_PATH)))"
   ]
  },
  {
   "cell_type": "markdown",
   "metadata": {
    "button": false,
    "deletable": true,
    "id": "xegb0uDA232J",
    "new_sheet": false,
    "run_control": {
     "read_only": false
    }
   },
   "source": [
    "Once you have successfully mounted your Google Drive and located the path to this assignment, run the following cell to allow us to import from the `.py` files of this assignment. If it works correctly, it should print the message:\n",
    "\n",
    "```\n",
    "Hello from common!\n",
    "Hello from convolutional_networks.py!\n",
    "```\n",
    "\n",
    "as well as the last edit time for the file `convolutional_networks.py`."
   ]
  },
  {
   "cell_type": "code",
   "execution_count": null,
   "metadata": {
    "button": false,
    "deletable": true,
    "id": "AhGQF5sw3Fas",
    "new_sheet": false,
    "run_control": {
     "read_only": false
    }
   },
   "outputs": [],
   "source": [
    "import os\n",
    "import sys\n",
    "import time\n",
    "\n",
    "sys.path.insert(0, GOOGLE_DRIVE_PATH)\n",
    "\n",
    "os.environ[\"TZ\"] = \"Asia/Seoul\"\n",
    "time.tzset()\n",
    "\n",
    "from common import hello as hello_common\n",
    "hello_common()\n",
    "\n",
    "from convolutional_networks import hello as hello_convolutional_networks\n",
    "hello_convolutional_networks()\n",
    "\n",
    "convolutional_networks_path = os.path.join(GOOGLE_DRIVE_PATH, 'convolutional_networks.py')\n",
    "convolutional_networks_edit_time = time.ctime(os.path.getmtime(convolutional_networks_path))\n",
    "print('convolutional_networks.py last edited on %s' % convolutional_networks_edit_time)"
   ]
  },
  {
   "cell_type": "markdown",
   "metadata": {
    "button": false,
    "deletable": true,
    "id": "fN1SShPR4lJV",
    "new_sheet": false,
    "run_control": {
     "read_only": false
    }
   },
   "source": [
    "## Load Packages\n",
    "\n",
    "Run some setup code for this notebook: Import some useful packages and increase the default figure size."
   ]
  },
  {
   "cell_type": "code",
   "execution_count": null,
   "metadata": {
    "button": false,
    "deletable": true,
    "id": "VUCKw4Tl1ddj",
    "new_sheet": false,
    "run_control": {
     "read_only": false
    }
   },
   "outputs": [],
   "source": [
    "import common\n",
    "from common import reset_seed, Solver\n",
    "from common.grad import compute_numeric_gradient, rel_error\n",
    "import math\n",
    "import torch\n",
    "import torchvision\n",
    "import matplotlib.pyplot as plt\n",
    "%matplotlib inline\n",
    "\n",
    "\n",
    "plt.rcParams['figure.figsize'] = (10.0, 8.0)\n",
    "plt.rcParams['font.size'] = 16\n",
    "plt.rcParams['image.interpolation'] = 'nearest'  # 'antialiased'\n",
    "plt.rcParams['image.cmap'] = 'gray'  # viridis"
   ]
  },
  {
   "cell_type": "markdown",
   "metadata": {
    "button": false,
    "deletable": true,
    "id": "lhqpd2IN2O-K",
    "new_sheet": false,
    "run_control": {
     "read_only": false
    }
   },
   "source": [
    "We will use a GPU to accelerate our computation. Run the following cell to make sure you are using a GPU.\n",
    "**Please confirm you are using Tesla T4**; if your GPU is not better than this, you might have some difficulty when training a good DeepConvNet."
   ]
  },
  {
   "cell_type": "code",
   "execution_count": null,
   "metadata": {
    "button": false,
    "deletable": true,
    "id": "SGDxdBIMRX6b",
    "new_sheet": false,
    "run_control": {
     "read_only": false
    }
   },
   "outputs": [],
   "source": [
    "if torch.cuda.is_available():\n",
    "    print('Good to go! You are using', torch.cuda.get_device_name())\n",
    "    device = torch.device('cuda')\n",
    "else:\n",
    "    print('Please set GPU via Edit -> Notebook Settings.')\n",
    "    device = torch.device('cpu')\n",
    "\n",
    "\n",
    "# Define some common variables for dtypes/devices.\n",
    "# These can be keyword arguments when defining new tensors.\n",
    "to_float = {'dtype': torch.float32, 'device': device}\n",
    "to_double = {'dtype': torch.float64, 'device': device}\n",
    "to_long = {'dtype': torch.int64, 'device': device}"
   ]
  },
  {
   "cell_type": "markdown",
   "metadata": {
    "button": false,
    "deletable": true,
    "id": "-Yv3zQYw5B3s",
    "new_sheet": false,
    "run_control": {
     "read_only": false
    }
   },
   "source": [
    "## Load CIFAR-10\n",
    "We will first load the CIFAR-10 dataset. The utility function `common.data.preprocess_cifar10()` returns the entire CIFAR-10 dataset as a set of six **Torch tensors** while also preprocessing the RGB images:\n",
    "\n",
    "- `X_train` contains all training images (real numbers in the range $[0, 1]$)\n",
    "- `y_train` contains all training labels (integers in the range $[0, 9]$)\n",
    "- `X_val` contains all validation images\n",
    "- `y_val` contains all validation labels\n",
    "- `X_test` contains all test images\n",
    "- `y_test` contains all test labels"
   ]
  },
  {
   "cell_type": "code",
   "execution_count": null,
   "metadata": {
    "button": false,
    "deletable": true,
    "id": "V2mFlFmQ1ddm",
    "new_sheet": false,
    "run_control": {
     "read_only": false
    }
   },
   "outputs": [],
   "source": [
    "# Invoke the above function to get our data.\n",
    "import common\n",
    "\n",
    "common.reset_seed(0)\n",
    "data_dict = common.data.preprocess_cifar10(cuda=True, dtype=torch.float64,\n",
    "                                           flatten=False)\n",
    "print('Train data shape:', data_dict['X_train'].shape)\n",
    "print('Train labels shape:', data_dict['y_train'].shape)\n",
    "print('Validation data shape:', data_dict['X_val'].shape)\n",
    "print('Validation labels shape:', data_dict['y_val'].shape)\n",
    "print('Test data shape:', data_dict['X_test'].shape)\n",
    "print('Test labels shape:', data_dict['y_test'].shape)"
   ]
  },
  {
   "cell_type": "markdown",
   "metadata": {
    "button": false,
    "deletable": true,
    "id": "aQW_w1Wzw72f",
    "new_sheet": false,
    "run_control": {
     "read_only": false
    },
    "tags": [
     "pdf-title"
    ]
   },
   "source": [
    "# Convolutional networks\n",
    "So far, we have worked with deep fully-connected networks, using them to explore different optimization strategies and network architectures. Fully-connected networks are a good testbed for experimentation because they are very computationally efficient. But in practice, all state-of-the-art results use convolutional networks instead.\n",
    "\n",
    "First, you will implement several layer types that are used in convolutional networks. You will then use these layers to train a convolutional network on the CIFAR-10 dataset."
   ]
  },
  {
   "cell_type": "markdown",
   "metadata": {
    "button": false,
    "deletable": true,
    "id": "CJInAlccoI5e",
    "new_sheet": false,
    "run_control": {
     "read_only": false
    }
   },
   "source": [
    "## Convolutional layer\n",
    "As in the previous notebook, we will package each new neural network operator in a class that defines a `forward` and `backward` function."
   ]
  },
  {
   "cell_type": "markdown",
   "metadata": {
    "button": false,
    "deletable": true,
    "id": "x07DS91iw72o",
    "new_sheet": false,
    "run_control": {
     "read_only": false
    }
   },
   "source": [
    "### Convolutional layer: forward\n",
    "The core of a convolutional network is the convolution operation. **Implement** the `Conv.forward` function.\n",
    "\n",
    "Note that learnable kernels do not have to be flipped, so your implementation should be technically cross-correlation for simplicity.\n",
    "\n",
    "To be concrete, for arbitrary matrices $a \\in \\mathbb{R}^{H_a \\times W_a}$ and $b \\in \\mathbb{R}^{H_b \\times W_b}$, let $*$ be the cross-correlation satisfying\n",
    "$$\n",
    "(a * b)_{i, j} = \\sum_{m=i}^{i+H_b-1}\\sum_{n=j}^{j+W_b-1} a_{m, n} b_{m-i+1, n-j+1} = \\sum_{p=1}^{H_b}\\sum_{q=1}^{W_b} a_{i+p-1, j+q-1} b_{p, q}.\n",
    "$$\n",
    "\n",
    "Then, for\n",
    "the input $x \\in \\mathbb{R}^{N \\times C \\times H \\times W}$,\n",
    "the kernel weights $w \\in \\mathbb{R}^{F \\times C \\times K_{H} \\times K_{W}}$,\n",
    "the bias $b \\in \\mathbb{R}^{F}$, and\n",
    "the output $y \\in \\mathbb{R}^{N \\times F \\times H' \\times W'}$\n",
    "where\n",
    "$H' = H - K_{H} + 1, W' = W - K_{W} + 1$,\n",
    "$$\n",
    "y_{n, f} = \\sum_{c=1}^C x_{n, c} * w_{f, c} + b_{f} 1_{H' \\times W'},\n",
    "$$\n",
    "where $1_{H' \\times W'}$ is the $H' \\times W'$ matrix with all one.\n",
    "\n",
    "Note that the vectorized math for convolution/cross-correlation is somewhat complex and might not be useful for implementation; rather, recall that each output pixel is computed by the dot product between an input patch and kernel plus bias:\n",
    "$$\n",
    "y_{n, f, i, j} = \\sum_{c=1}^C \\sum_{p=1}^{K_{H}} \\sum_{q=1}^{K_W} x_{n, c, i+p-1, j+q-1} w_{f, c, p, q} + b_{f}.\n",
    "$$\n",
    "\n",
    "**Note:** A naive implementation uses 4 nested for-loops to compute each element of the output, but you can vectorize along with the batch and channel dimensions to use only 2 nested for-loops, iterating over the height and width dimensions.\n",
    "However, you don't have to worry too much about efficiency at this point; just write the code in whatever way you find the most clear.\n",
    "You will get full credits as long as your implementation is correct.\n",
    "\n",
    "After implementing the forward pass for the convolution operation, run the following to check your implementation. You should get an error less than `1e-7`."
   ]
  },
  {
   "cell_type": "code",
   "execution_count": null,
   "metadata": {
    "button": false,
    "deletable": true,
    "id": "F5R_WY1Iw72p",
    "new_sheet": false,
    "run_control": {
     "read_only": false
    }
   },
   "outputs": [],
   "source": [
    "from convolutional_networks import Conv\n",
    "\n",
    "x_shape = torch.tensor((2, 3, 4, 4))\n",
    "w_shape = torch.tensor((3, 3, 4, 4))\n",
    "x = torch.linspace(-0.1, 0.5, steps=torch.prod(x_shape), **to_double).reshape(*x_shape)\n",
    "w = torch.linspace(-0.2, 0.3, steps=torch.prod(w_shape), **to_double).reshape(*w_shape)\n",
    "b = torch.linspace(-0.1, 0.2, steps=3, **to_double)\n",
    "\n",
    "conv_param = {'stride': 2, 'pad': 1}\n",
    "out, _ = Conv.forward(x, w, b, conv_param)\n",
    "correct_out = torch.tensor([[[[-0.08759809, -0.10987781],\n",
    "                              [-0.18387192, -0.2109216 ]],\n",
    "                             [[ 0.21027089,  0.21661097],\n",
    "                              [ 0.22847626,  0.23004637]],\n",
    "                             [[ 0.50813986,  0.54309974],\n",
    "                              [ 0.64082444,  0.67101435]]],\n",
    "                            [[[-0.98053589, -1.03143541],\n",
    "                              [-1.19128892, -1.24695841]],\n",
    "                             [[ 0.69108355,  0.66880383],\n",
    "                              [ 0.59480972,  0.56776003]],\n",
    "                             [[ 2.36270298,  2.36904306],\n",
    "                              [ 2.38090835,  2.38247847]]]],\n",
    "                          **to_double,\n",
    "            )\n",
    "\n",
    "print('Testing Conv.forward')\n",
    "print('difference:', rel_error(out, correct_out))"
   ]
  },
  {
   "cell_type": "markdown",
   "metadata": {
    "button": false,
    "deletable": true,
    "id": "N5bKrl7Uw72t",
    "new_sheet": false,
    "run_control": {
     "read_only": false
    }
   },
   "source": [
    "### Aside: Image processing via convolutions\n",
    "\n",
    "As fun way to both check your implementation and gain a better understanding of the type of operation that convolutional layers can perform, we will set up an input containing two images and manually set up filters that perform common image processing operations (grayscale conversion and edge detection). The convolution forward pass will apply these operations to each of the input images. We can then visualize the results as a sanity check."
   ]
  },
  {
   "cell_type": "code",
   "execution_count": null,
   "metadata": {
    "button": false,
    "deletable": true,
    "id": "k8BffZxdw72u",
    "new_sheet": false,
    "run_control": {
     "read_only": false
    },
    "tags": [
     "pdf-ignore-input"
    ]
   },
   "outputs": [],
   "source": [
    "from imageio.v3 import imread\n",
    "from PIL import Image\n",
    "from torchvision.transforms import ToTensor\n",
    "\n",
    "kitten_url = os.path.join(GOOGLE_DRIVE_PATH, 'assets/kitten.jpg')\n",
    "puppy_url = os.path.join(GOOGLE_DRIVE_PATH, 'assets/puppy.jpg')\n",
    "\n",
    "kitten = imread(kitten_url)\n",
    "puppy = imread(puppy_url)\n",
    "# kitten is wide, and puppy is already square\n",
    "d = kitten.shape[1] - kitten.shape[0]\n",
    "kitten_cropped = kitten[:, d//2:-d//2, :]\n",
    "\n",
    "img_size = 200   # Make this smaller if it runs too slow\n",
    "resized_puppy = ToTensor()(Image.fromarray(puppy).resize((img_size, img_size)))\n",
    "resized_kitten = ToTensor()(Image.fromarray(kitten_cropped).resize((img_size, img_size)))\n",
    "x = torch.stack([resized_puppy, resized_kitten])\n",
    "\n",
    "# Set up a convolutional weights holding 2 filters, each 3x3\n",
    "w = torch.zeros(2, 3, 3, 3, dtype=x.dtype)\n",
    "\n",
    "# The first filter converts the image to grayscale.\n",
    "# Set up the red, green, and blue channels of the filter.\n",
    "w[0, 0, :, :] = torch.tensor([[0, 0, 0], [0, 0.3, 0], [0, 0, 0]])\n",
    "w[0, 1, :, :] = torch.tensor([[0, 0, 0], [0, 0.6, 0], [0, 0, 0]])\n",
    "w[0, 2, :, :] = torch.tensor([[0, 0, 0], [0, 0.1, 0], [0, 0, 0]])\n",
    "\n",
    "# Second filter detects horizontal edges in the blue channel.\n",
    "w[1, 2, :, :] = torch.tensor([[1, 2, 1], [0, 0, 0], [-1, -2, -1]])\n",
    "\n",
    "# Vector of biases. We don't need any bias for the grayscale\n",
    "# filter, but for the edge detection filter we want to add 128\n",
    "# to each output so that nothing is negative.\n",
    "b = torch.tensor([0, 128], dtype=x.dtype)\n",
    "\n",
    "# Compute the result of convolving each input in x with each filter in w,\n",
    "# offsetting by b, and storing the results in out.\n",
    "out, _ = Conv.forward(x, w, b, {'stride': 1, 'pad': 1})\n",
    "\n",
    "def imshow_no_ax(img, normalize=True):\n",
    "    \"\"\" Tiny helper to show images as uint8 and remove axis labels \"\"\"\n",
    "    if normalize:\n",
    "        img_max, img_min = img.max(), img.min()\n",
    "        img = 255.0 * (img - img_min) / (img_max - img_min)\n",
    "    plt.imshow(img)\n",
    "    plt.gca().axis('off')\n",
    "\n",
    "# Show the original images and the results of the conv operation\n",
    "plt.subplot(2, 3, 1)\n",
    "imshow_no_ax(puppy, normalize=False)\n",
    "plt.title('Original image')\n",
    "plt.subplot(2, 3, 2)\n",
    "imshow_no_ax(out[0, 0])\n",
    "plt.title('Grayscale')\n",
    "plt.subplot(2, 3, 3)\n",
    "imshow_no_ax(out[0, 1])\n",
    "plt.title('Edges')\n",
    "plt.subplot(2, 3, 4)\n",
    "imshow_no_ax(kitten_cropped, normalize=False)\n",
    "plt.subplot(2, 3, 5)\n",
    "imshow_no_ax(out[1, 0])\n",
    "plt.subplot(2, 3, 6)\n",
    "imshow_no_ax(out[1, 1])\n",
    "plt.show()"
   ]
  },
  {
   "cell_type": "markdown",
   "metadata": {
    "button": false,
    "deletable": true,
    "id": "Lqsg-NxHw72y",
    "new_sheet": false,
    "run_control": {
     "read_only": false
    }
   },
   "source": [
    "### Convolutional layer: backward\n",
    "**Implement** the `Conv.backward` function. Again, don't worry too much about computational efficiency.\n",
    "\n",
    "To be concrete, the math is as follows:\n",
    "$$\n",
    "\\frac{\\partial L}{\\partial x_{n, c}} = \\sum_{f=1}^F w_{f, c} *_\\text{full} \\left(\\frac{\\partial L}{\\partial y_{n, f}} \\right),\n",
    "$$\n",
    "$$\n",
    "\\frac{\\partial L}{\\partial w_{f, c}} = \\sum_{n=1}^N x_{n, c} * \\left(\\frac{\\partial L}{\\partial y_{n, f}}\\right),\n",
    "$$\n",
    "$$\n",
    "\\frac{\\partial L}{\\partial b_{f}} = \\sum_{n=1}^N \\sum_{i=1}^{H'} \\sum_{j=1}^{W'} \\frac{\\partial L}{\\partial y_{n, f, i, j}},\n",
    "$$\n",
    "where $*_\\text{full}$ is the full convolution, which applies the largest pad size, until no pixel is overlapped, such that $H = H' + K_{H} - 1, W = W' + K_{W} - 1$ hold.\n",
    "\n",
    "Again, the vectorized math for convolution/cross-correlation might not be useful for implementation; rather, think about the gradient from each output pixel.\n",
    "\n",
    "After implementing the backward pass for the convolution operation, run the following to check your implementation. You should get errors less than `1e-8`."
   ]
  },
  {
   "cell_type": "code",
   "execution_count": null,
   "metadata": {
    "button": false,
    "deletable": true,
    "id": "77NxvIGpw720",
    "new_sheet": false,
    "run_control": {
     "read_only": false
    }
   },
   "outputs": [],
   "source": [
    "from convolutional_networks import Conv\n",
    "\n",
    "reset_seed(0)\n",
    "x = torch.randn(4, 3, 5, 5, **to_double)\n",
    "w = torch.randn(2, 3, 3, 3, **to_double)\n",
    "b = torch.randn(2, **to_double)\n",
    "dout = torch.randn(4, 2, 5, 5, **to_double)\n",
    "conv_param = {'stride': 1, 'pad': 1}\n",
    "\n",
    "dx_num = compute_numeric_gradient(lambda x: Conv.forward(x, w, b, conv_param)[0], x, dout)\n",
    "dw_num = compute_numeric_gradient(lambda w: Conv.forward(x, w, b, conv_param)[0], w, dout)\n",
    "db_num = compute_numeric_gradient(lambda b: Conv.forward(x, w, b, conv_param)[0], b, dout)\n",
    "\n",
    "out, cache = Conv.forward(x, w, b, conv_param)\n",
    "dx, dw, db = Conv.backward(dout, cache)\n",
    "\n",
    "print('Testing Conv.backward function')\n",
    "print('dx error:', rel_error(dx, dx_num))\n",
    "print('dw error:', rel_error(dw, dw_num))\n",
    "print('db error:', rel_error(db, db_num))"
   ]
  },
  {
   "cell_type": "markdown",
   "metadata": {
    "button": false,
    "deletable": true,
    "id": "CS8EsPacrpG8",
    "new_sheet": false,
    "run_control": {
     "read_only": false
    }
   },
   "source": [
    "## Max-pooling"
   ]
  },
  {
   "cell_type": "markdown",
   "metadata": {
    "button": false,
    "deletable": true,
    "id": "elO_ys-8w723",
    "new_sheet": false,
    "run_control": {
     "read_only": false
    }
   },
   "source": [
    "### Max-pooling: forward\n",
    "**Implement** the `MaxPool.forward` function. Again, don't worry too much about computational efficiency.\n",
    "\n",
    "After implementing the forward pass for the max-pooling operation, run the following to check your implementation. You should get an error less than `1e-7`.\n"
   ]
  },
  {
   "cell_type": "code",
   "execution_count": null,
   "metadata": {
    "button": false,
    "deletable": true,
    "id": "qmNJY6E7w724",
    "new_sheet": false,
    "run_control": {
     "read_only": false
    }
   },
   "outputs": [],
   "source": [
    "from convolutional_networks import MaxPool\n",
    "\n",
    "reset_seed(0)\n",
    "x_shape = torch.tensor((2, 3, 4, 4))\n",
    "x = torch.linspace(-0.3, 0.4, steps=torch.prod(x_shape), **to_double).reshape(*x_shape)\n",
    "pool_param = {'pool_width': 2, 'pool_height': 2, 'stride': 2}\n",
    "\n",
    "out, _ = MaxPool.forward(x, pool_param)\n",
    "\n",
    "correct_out = torch.tensor([[[[-0.26315789, -0.24842105],\n",
    "                              [-0.20421053, -0.18947368]],\n",
    "                             [[-0.14526316, -0.13052632],\n",
    "                              [-0.08631579, -0.07157895]],\n",
    "                             [[-0.02736842, -0.01263158],\n",
    "                              [ 0.03157895,  0.04631579]]],\n",
    "                            [[[ 0.09052632,  0.10526316],\n",
    "                              [ 0.14947368,  0.16421053]],\n",
    "                             [[ 0.20842105,  0.22315789],\n",
    "                              [ 0.26736842,  0.28210526]],\n",
    "                             [[ 0.32631579,  0.34105263],\n",
    "                              [ 0.38526316,  0.4       ]]]],\n",
    "                           **to_double)\n",
    "\n",
    "print('Testing MaxPool.forward function:')\n",
    "print('difference:', rel_error(out, correct_out))"
   ]
  },
  {
   "cell_type": "markdown",
   "metadata": {
    "button": false,
    "deletable": true,
    "id": "lLjMhG4nw728",
    "new_sheet": false,
    "run_control": {
     "read_only": false
    }
   },
   "source": [
    "### Max-pooling: backward\n",
    "**Implement** the `MaxPool.backward` function. Again, don't worry too much about computational efficiency.\n",
    "\n",
    "After implementing the backward pass for the max-pooling operation, run the following to check your implementation. You should get an error less than `1e-9`."
   ]
  },
  {
   "cell_type": "code",
   "execution_count": null,
   "metadata": {
    "button": false,
    "deletable": true,
    "id": "9FTLuSsIw729",
    "new_sheet": false,
    "run_control": {
     "read_only": false
    }
   },
   "outputs": [],
   "source": [
    "from convolutional_networks import MaxPool\n",
    "\n",
    "reset_seed(0)\n",
    "x = torch.randn(3, 2, 8, 8, **to_double)\n",
    "dout = torch.randn(3, 2, 4, 4, **to_double)\n",
    "pool_param = {'pool_height': 2, 'pool_width': 2, 'stride': 2}\n",
    "\n",
    "dx_num = compute_numeric_gradient(lambda x: MaxPool.forward(x, pool_param)[0], x, dout)\n",
    "\n",
    "out, cache = MaxPool.forward(x, pool_param)\n",
    "dx = MaxPool.backward(dout, cache)\n",
    "\n",
    "print('Testing MaxPool.backward function:')\n",
    "print('dx error:', rel_error(dx, dx_num))"
   ]
  },
  {
   "cell_type": "markdown",
   "metadata": {
    "button": false,
    "deletable": true,
    "id": "0-GA5mHcw73A",
    "new_sheet": false,
    "run_control": {
     "read_only": false
    }
   },
   "source": [
    "## Fast layers\n",
    "Making convolution and pooling layers fast can be challenging. To spare you the pain, we've provided fast implementations of the forward and backward passes for convolution and pooling layers. Those can be found at the bottom of `convolutional_networks.py`.\n",
    "\n",
    "The fast convolution implementation depends on `torch.nn`.\n",
    "\n",
    "The API for the fast versions of the convolution and pooling layers is exactly the same as the naive versions that you implemented above: the forward pass receives data, weights, and parameters and produces outputs and a cache object; the backward pass receives upstream derivatives and the cache object and produces gradients with respect to the data and weights.\n",
    "\n",
    "**Note:** Together with the fast convolution and pooling layers, we also provide the APIs for `Linear` and `ReLU` layers that are exactly the same as those you implemented for the previous assignment, so that you don't have to implement the same functions multiple times. Those can be found at the bottom of `convolutional_networks.py`.\n",
    "\n",
    "```python\n",
    "class FastConv(object):\n",
    "\n",
    "    @staticmethod\n",
    "    def forward(x, w, b, conv_param):\n",
    "        N, C, H, W = x.shape\n",
    "        F, _, HH, WW = w.shape\n",
    "        stride, pad = conv_param['stride'], conv_param['pad']\n",
    "        layer = torch.nn.Conv2d(C, F, (HH, WW), stride=stride, padding=pad)\n",
    "        layer.weight = torch.nn.Parameter(w)\n",
    "        layer.bias = torch.nn.Parameter(b)\n",
    "        tx = x.detach()\n",
    "        tx.requires_grad = True\n",
    "        out = layer(tx)\n",
    "        cache = (x, w, b, conv_param, tx, out, layer)\n",
    "        return out, cache\n",
    "\n",
    "    @staticmethod\n",
    "    def backward(dout, cache):\n",
    "        try:\n",
    "            x, _, _, _, tx, out, layer = cache\n",
    "            out.backward(dout)\n",
    "            dx = tx.grad.detach()\n",
    "            dw = layer.weight.grad.detach()\n",
    "            db = layer.bias.grad.detach()\n",
    "            layer.weight.grad = layer.bias.grad = None\n",
    "        except RuntimeError:\n",
    "            dx, dw, db = torch.zeros_like(tx), torch.zeros_like(layer.weight), torch.zeros_like(layer.bias)\n",
    "        return dx, dw, db\n",
    "\n",
    "\n",
    "class FastMaxPool(object):\n",
    "\n",
    "    @staticmethod\n",
    "    def forward(x, pool_param):\n",
    "        N, C, H, W = x.shape\n",
    "        pool_height, pool_width = pool_param['pool_height'], pool_param['pool_width']\n",
    "        stride = pool_param['stride']\n",
    "        layer = torch.nn.MaxPool2d(kernel_size=(pool_height, pool_width), stride=stride)\n",
    "        tx = x.detach()\n",
    "        tx.requires_grad = True\n",
    "        out = layer(tx)\n",
    "        cache = (x, pool_param, tx, out, layer)\n",
    "        return out, cache\n",
    "\n",
    "    @staticmethod\n",
    "    def backward(dout, cache):\n",
    "        try:\n",
    "            x, _, tx, out, layer = cache\n",
    "            out.backward(dout)\n",
    "            dx = tx.grad.detach()\n",
    "        except RuntimeError:\n",
    "            dx = torch.zeros_like(tx)\n",
    "        return dx\n",
    "```"
   ]
  },
  {
   "cell_type": "markdown",
   "metadata": {
    "button": false,
    "deletable": true,
    "id": "Z7B_QYt206g4",
    "new_sheet": false,
    "run_control": {
     "read_only": false
    }
   },
   "source": [
    "\n",
    "We will now compare three different implementations of convolution (both forward and backward):\n",
    "\n",
    "1. Your naive implementation on CPU\n",
    "2. The fast implementation on CPU\n",
    "3. The fast implementation on GPU\n",
    "\n",
    "The differences between your implementation and `FastConv` should be less than `1e-10`. When moving from your implementation to `FastConv` CPU, you will likely see speedups of at least 100x. When comparing your implementation to `FastConv` CUDA, you will likely see speedups of more than 500x.\n",
    "\n",
    "Note that these speedups are not hard requirements for this assignment, since we are not asking you to write any vectorized implementations."
   ]
  },
  {
   "cell_type": "code",
   "execution_count": null,
   "metadata": {
    "button": false,
    "deletable": true,
    "id": "mSbc5Ttvw73C",
    "new_sheet": false,
    "run_control": {
     "read_only": false
    }
   },
   "outputs": [],
   "source": [
    "from convolutional_networks import Conv, FastConv\n",
    "\n",
    "reset_seed(0)\n",
    "x = torch.randn(10, 3, 31, 31, **to_double)\n",
    "w = torch.randn(25, 3, 3, 3, **to_double)\n",
    "b = torch.randn(25, **to_double)\n",
    "dout = torch.randn(10, 25, 16, 16, **to_double)\n",
    "x_cuda, w_cuda, b_cuda, dout_cuda = x.to('cuda'), w.to('cuda'), b.to('cuda'), dout.to('cuda')\n",
    "conv_param = {'stride': 2, 'pad': 1}\n",
    "\n",
    "t0 = time.time()\n",
    "out_naive, cache_naive = Conv.forward(x, w, b, conv_param)\n",
    "t1 = time.time()\n",
    "out_fast, cache_fast = FastConv.forward(x, w, b, conv_param)\n",
    "t2 = time.time()\n",
    "out_fast_cuda, cache_fast_cuda = FastConv.forward(x_cuda, w_cuda, b_cuda, conv_param)\n",
    "t3 = time.time()\n",
    "\n",
    "print('Testing FastConv.forward:')\n",
    "print('Naive: %fs' % (t1 - t0))\n",
    "print('Fast: %fs' % (t2 - t1))\n",
    "print('Fast CUDA: %fs' % (t3 - t2))\n",
    "print('Speedup: %fx' % ((t1 - t0) / (t2 - t1)))\n",
    "print('Speedup CUDA: %fx' % ((t1 - t0) / (t3 - t2)))\n",
    "print('Difference:', rel_error(out_naive, out_fast))\n",
    "print('Difference CUDA:', rel_error(out_naive, out_fast_cuda.to(out_naive.device)))\n",
    "\n",
    "t0 = time.time()\n",
    "dx_naive, dw_naive, db_naive = Conv.backward(dout, cache_naive)\n",
    "t1 = time.time()\n",
    "dx_fast, dw_fast, db_fast = FastConv.backward(dout, cache_fast)\n",
    "t2 = time.time()\n",
    "dx_fast_cuda, dw_fast_cuda, db_fast_cuda = FastConv.backward(dout_cuda, cache_fast_cuda)\n",
    "t3 = time.time()\n",
    "\n",
    "print('\\nTesting FastConv.backward:')\n",
    "print('Naive: %fs' % (t1 - t0))\n",
    "print('Fast: %fs' % (t2 - t1))\n",
    "print('Fast CUDA: %fs' % (t3 - t2))\n",
    "print('Speedup: %fx' % ((t1 - t0) / (t2 - t1)))\n",
    "print('Speedup CUDA: %fx' % ((t1 - t0) / (t3 - t2)))\n",
    "print('dx difference:', rel_error(dx_naive, dx_fast))\n",
    "print('dw difference:', rel_error(dw_naive, dw_fast))\n",
    "print('db difference:', rel_error(db_naive, db_fast))\n",
    "print('dx difference CUDA:', rel_error(dx_naive, dx_fast_cuda.to(dx_naive.device)))\n",
    "print('dw difference CUDA:', rel_error(dw_naive, dw_fast_cuda.to(dw_naive.device)))\n",
    "print('db difference CUDA:', rel_error(db_naive, db_fast_cuda.to(db_naive.device)))"
   ]
  },
  {
   "cell_type": "markdown",
   "metadata": {
    "button": false,
    "deletable": true,
    "id": "HdvR1krO2P_q",
    "new_sheet": false,
    "run_control": {
     "read_only": false
    }
   },
   "source": [
    "We will now similarly compare your naive implementation of max pooling against the fast implementation. You should see differences of `0` between your implementation and the fast implementation.\n",
    "\n",
    "When comparing your implementation against `FastMaxPool` on CPU, you will likely see speedups of more than 100x. When comparing your implementation against `FastMaxPool` on GPU, you will likely see speedups of more than 500x."
   ]
  },
  {
   "cell_type": "code",
   "execution_count": null,
   "metadata": {
    "button": false,
    "deletable": true,
    "id": "R0fykwCiw73F",
    "new_sheet": false,
    "run_control": {
     "read_only": false
    }
   },
   "outputs": [],
   "source": [
    "from convolutional_networks import MaxPool, FastMaxPool\n",
    "\n",
    "reset_seed(0)\n",
    "x = torch.randn(40, 3, 32, 32, **to_double)\n",
    "dout = torch.randn(40, 3, 16, 16, **to_double)\n",
    "x_cuda, dout_cuda = x.to('cuda'), dout.to('cuda')\n",
    "pool_param = {'pool_height': 2, 'pool_width': 2, 'stride': 2}\n",
    "\n",
    "t0 = time.time()\n",
    "out_naive, cache_naive = MaxPool.forward(x, pool_param)\n",
    "t1 = time.time()\n",
    "out_fast, cache_fast = FastMaxPool.forward(x, pool_param)\n",
    "t2 = time.time()\n",
    "out_fast_cuda, cache_fast_cuda = FastMaxPool.forward(x_cuda, pool_param)\n",
    "t3 = time.time()\n",
    "\n",
    "print('Testing FastMaxPool.forward:')\n",
    "print('Naive: %fs' % (t1 - t0))\n",
    "print('Fast: %fs' % (t2 - t1))\n",
    "print('Fast CUDA: %fs' % (t3 - t2))\n",
    "print('Speedup: %fx' % ((t1 - t0) / (t2 - t1)))\n",
    "print('Speedup CUDA: %fx' % ((t1 - t0) / (t3 - t2)))\n",
    "print('Difference:', rel_error(out_naive, out_fast))\n",
    "print('Difference CUDA:', rel_error(out_naive, out_fast_cuda.to(out_naive.device)))\n",
    "\n",
    "t0 = time.time()\n",
    "dx_naive = MaxPool.backward(dout, cache_naive)\n",
    "t1 = time.time()\n",
    "dx_fast = FastMaxPool.backward(dout, cache_fast)\n",
    "t2 = time.time()\n",
    "dx_fast_cuda = FastMaxPool.backward(dout_cuda, cache_fast_cuda)\n",
    "t3 = time.time()\n",
    "\n",
    "print('\\nTesting FastMaxPool.backward:')\n",
    "print('Naive: %fs' % (t1 - t0))\n",
    "print('Fast: %fs' % (t2 - t1))\n",
    "print('Fast CUDA: %fs' % (t3 - t2))\n",
    "print('Speedup: %fx' % ((t1 - t0) / (t2 - t1)))\n",
    "print('Speedup CUDA: %fx' % ((t1 - t0) / (t3 - t2)))\n",
    "print('dx difference:', rel_error(dx_naive, dx_fast))\n",
    "print('dx difference CUDA:', rel_error(dx_naive, dx_fast_cuda.to(dx_naive.device)))"
   ]
  },
  {
   "cell_type": "markdown",
   "metadata": {
    "button": false,
    "deletable": true,
    "id": "Ix9ih6sKw73I",
    "new_sheet": false,
    "run_control": {
     "read_only": false
    }
   },
   "source": [
    "## Convolutional \"sandwich\" layers\n",
    "Previously, we introduced the concept of \"sandwich\" layers that combine multiple operations into commonly used patterns. Below you will find sandwich layers that implement a few commonly used patterns for convolutional networks. We've included them at the bottom of `covolutional_networks.py` Run the cells below to sanity check they're working.\n",
    "\n",
    "```python\n",
    "class Conv_ReLU(object):\n",
    "\n",
    "    @staticmethod\n",
    "    def forward(x, w, b, conv_param):\n",
    "        \"\"\"\n",
    "        A convenience layer that performs a convolution followed by a ReLU.\n",
    "        Inputs:\n",
    "        - x: Input to the convolutional layer\n",
    "        - w, b, conv_param: Weights and parameters for the convolutional layer\n",
    "        Returns a tuple of:\n",
    "        - out: Output from the ReLU\n",
    "        - cache: Object to give to the backward pass\n",
    "        \"\"\"\n",
    "        a, conv_cache = FastConv.forward(x, w, b, conv_param)\n",
    "        out, relu_cache = ReLU.forward(a)\n",
    "        cache = (conv_cache, relu_cache)\n",
    "        return out, cache\n",
    "\n",
    "    @staticmethod\n",
    "    def backward(dout, cache):\n",
    "        \"\"\"\n",
    "        Backward pass for the conv-relu convenience layer.\n",
    "        \"\"\"\n",
    "        conv_cache, relu_cache = cache\n",
    "        da = ReLU.backward(dout, relu_cache)\n",
    "        dx, dw, db = FastConv.backward(da, conv_cache)\n",
    "        return dx, dw, db\n",
    "\n",
    "\n",
    "class Conv_ReLU_Pool(object):\n",
    "\n",
    "    @staticmethod\n",
    "    def forward(x, w, b, conv_param, pool_param):\n",
    "        \"\"\"\n",
    "        A convenience layer that performs a convolution, a ReLU, and a pool.\n",
    "        Inputs:\n",
    "        - x: Input to the convolutional layer\n",
    "        - w, b, conv_param: Weights and parameters for the convolutional layer\n",
    "        - pool_param: Parameters for the pooling layer\n",
    "        Returns a tuple of:\n",
    "        - out: Output from the pooling layer\n",
    "        - cache: Object to give to the backward pass\n",
    "        \"\"\"\n",
    "        a, conv_cache = FastConv.forward(x, w, b, conv_param)\n",
    "        s, relu_cache = ReLU.forward(a)\n",
    "        out, pool_cache = FastMaxPool.forward(s, pool_param)\n",
    "        cache = (conv_cache, relu_cache, pool_cache)\n",
    "        return out, cache\n",
    "\n",
    "    @staticmethod\n",
    "    def backward(dout, cache):\n",
    "        \"\"\"\n",
    "        Backward pass for the conv-relu-pool convenience layer\n",
    "        \"\"\"\n",
    "        conv_cache, relu_cache, pool_cache = cache\n",
    "        ds = FastMaxPool.backward(dout, pool_cache)\n",
    "        da = ReLU.backward(ds, relu_cache)\n",
    "        dx, dw, db = FastConv.backward(da, conv_cache)\n",
    "        return dx, dw, db\n",
    "```\n",
    "\n",
    "Test the implementations of the sandwich layers by running the following. You should see errors less than `1e-7`."
   ]
  },
  {
   "cell_type": "code",
   "execution_count": null,
   "metadata": {
    "button": false,
    "deletable": true,
    "id": "B-0DpEY8w73J",
    "new_sheet": false,
    "run_control": {
     "read_only": false
    }
   },
   "outputs": [],
   "source": [
    "from convolutional_networks import Conv_ReLU, Conv_ReLU_Pool\n",
    "\n",
    "reset_seed(0)\n",
    "\n",
    "# Test Conv ReLU\n",
    "x = torch.randn(2, 3, 8, 8, **to_double)\n",
    "w = torch.randn(3, 3, 3, 3, **to_double)\n",
    "b = torch.randn(3, **to_double)\n",
    "dout = torch.randn(2, 3, 8, 8, **to_double)\n",
    "conv_param = {'stride': 1, 'pad': 1}\n",
    "\n",
    "out, cache = Conv_ReLU.forward(x, w, b, conv_param)\n",
    "dx, dw, db = Conv_ReLU.backward(dout, cache)\n",
    "\n",
    "dx_num = compute_numeric_gradient(lambda x: Conv_ReLU.forward(x, w, b, conv_param)[0], x, dout)\n",
    "dw_num = compute_numeric_gradient(lambda w: Conv_ReLU.forward(x, w, b, conv_param)[0], w, dout)\n",
    "db_num = compute_numeric_gradient(lambda b: Conv_ReLU.forward(x, w, b, conv_param)[0], b, dout)\n",
    "\n",
    "print('Testing Conv_ReLU:')\n",
    "print('dx error:', rel_error(dx_num, dx))\n",
    "print('dw error:', rel_error(dw_num, dw))\n",
    "print('db error:', rel_error(db_num, db))\n",
    "\n",
    "# Test Conv ReLU Pool\n",
    "x = torch.randn(2, 3, 16, 16, **to_double)\n",
    "w = torch.randn(3, 3, 3, 3, **to_double)\n",
    "b = torch.randn(3, **to_double)\n",
    "dout = torch.randn(2, 3, 8, 8, **to_double)\n",
    "conv_param = {'stride': 1, 'pad': 1}\n",
    "pool_param = {'pool_height': 2, 'pool_width': 2, 'stride': 2}\n",
    "\n",
    "out, cache = Conv_ReLU_Pool.forward(x, w, b, conv_param, pool_param)\n",
    "dx, dw, db = Conv_ReLU_Pool.backward(dout, cache)\n",
    "\n",
    "dx_num = compute_numeric_gradient(lambda x: Conv_ReLU_Pool.forward(x, w, b, conv_param, pool_param)[0], x, dout)\n",
    "dw_num = compute_numeric_gradient(lambda w: Conv_ReLU_Pool.forward(x, w, b, conv_param, pool_param)[0], w, dout)\n",
    "db_num = compute_numeric_gradient(lambda b: Conv_ReLU_Pool.forward(x, w, b, conv_param, pool_param)[0], b, dout)\n",
    "\n",
    "print()\n",
    "print('Testing Conv_ReLU_Pool')\n",
    "print('dx error:', rel_error(dx_num, dx))\n",
    "print('dw error:', rel_error(dw_num, dw))\n",
    "print('db error:', rel_error(db_num, db))"
   ]
  },
  {
   "cell_type": "markdown",
   "metadata": {
    "button": false,
    "deletable": true,
    "id": "Kgp7ymihw73P",
    "new_sheet": false,
    "run_control": {
     "read_only": false
    }
   },
   "source": [
    "## Three-layer convolutional network\n",
    "Now that you have implemented all the necessary layers, you can put them together into a simple convolutional network.\n",
    "\n",
    "Complete the implementation of the `ThreeLayerConvNet` class. We **STRONGLY** recommend you to use the fast/sandwich layers (already implemented for you) in your implementation. Run the following cells to help you debug:"
   ]
  },
  {
   "cell_type": "markdown",
   "metadata": {
    "button": false,
    "deletable": true,
    "id": "e_MfqAQXw73Q",
    "new_sheet": false,
    "run_control": {
     "read_only": false
    }
   },
   "source": [
    "### Sanity check loss\n",
    "After you build a new network, one of the things you should do first is sanity check the loss. When we use the softmax loss, we expect the loss for random weights (and no regularization) to be about `log(C)` for a `C`-class classification task. When we add regularization, the loss should go up slightly."
   ]
  },
  {
   "cell_type": "code",
   "execution_count": null,
   "metadata": {
    "button": false,
    "deletable": true,
    "id": "h-XEWaw2w73R",
    "new_sheet": false,
    "run_control": {
     "read_only": false
    }
   },
   "outputs": [],
   "source": [
    "from convolutional_networks import ThreeLayerConvNet\n",
    "\n",
    "reset_seed(0)\n",
    "model = ThreeLayerConvNet(**to_double)\n",
    "\n",
    "N = 50\n",
    "X = torch.randn(N, 3, 32, 32, **to_double)\n",
    "y = torch.randint(10, size=(N,), **to_long)\n",
    "\n",
    "loss, grads = model.loss(X, y)\n",
    "print('Initial loss (no regularization):', loss.item())\n",
    "\n",
    "model.reg = 1.\n",
    "loss, grads = model.loss(X, y)\n",
    "print('Initial loss (with regularization):', loss.item())"
   ]
  },
  {
   "cell_type": "markdown",
   "metadata": {
    "button": false,
    "deletable": true,
    "id": "QEIViSCjw73U",
    "new_sheet": false,
    "run_control": {
     "read_only": false
    }
   },
   "source": [
    "### Gradient check\n",
    "After you confirm the loss looks reasonable, use numeric gradient checking to make sure that your backward pass is correct. When you use numeric gradient checking, you should use a small amount of artificial data and a small number of neurons at each layer.\n",
    "\n",
    "You should get errors less than `1e-5`."
   ]
  },
  {
   "cell_type": "code",
   "execution_count": null,
   "metadata": {
    "button": false,
    "deletable": true,
    "id": "xPrOgIsJw73V",
    "new_sheet": false,
    "run_control": {
     "read_only": false
    }
   },
   "outputs": [],
   "source": [
    "from convolutional_networks import ThreeLayerConvNet\n",
    "\n",
    "num_inputs = 2\n",
    "input_dims = (3, 16, 16)\n",
    "reg = 0.\n",
    "num_classes = 10\n",
    "reset_seed(0)\n",
    "X = torch.randn(num_inputs, *input_dims, **to_double)\n",
    "y = torch.randint(num_classes, size=(num_inputs,), **to_long)\n",
    "\n",
    "model = ThreeLayerConvNet(num_filters=3, filter_size=3,\n",
    "                          input_dims=input_dims, hidden_dim=7,\n",
    "                          weight_scale=5e-2, **to_double)\n",
    "loss, grads = model.loss(X, y)\n",
    "\n",
    "for param_name in sorted(grads):\n",
    "    f = lambda _: model.loss(X, y)[0]\n",
    "    param_grad_num = compute_numeric_gradient(f, model.params[param_name])\n",
    "    print('%s max relative error: %e' % (param_name, rel_error(param_grad_num, grads[param_name])))"
   ]
  },
  {
   "cell_type": "markdown",
   "metadata": {
    "button": false,
    "deletable": true,
    "id": "dUPRjnzww73Y",
    "new_sheet": false,
    "run_control": {
     "read_only": false
    }
   },
   "source": [
    "### Overfit small data\n",
    "A nice trick is to train your model with just a few training samples. You should be able to overfit small datasets, which will result in very high training accuracy (> 90%) and comparatively low validation accuracy."
   ]
  },
  {
   "cell_type": "code",
   "execution_count": null,
   "metadata": {
    "button": false,
    "deletable": true,
    "id": "pwwQ0XB7w73Z",
    "new_sheet": false,
    "run_control": {
     "read_only": false
    }
   },
   "outputs": [],
   "source": [
    "from convolutional_networks import ThreeLayerConvNet\n",
    "from fully_connected_networks import adam\n",
    "\n",
    "reset_seed(0)\n",
    "\n",
    "num_train = 100\n",
    "small_data = {\n",
    "    'X_train': data_dict['X_train'][:num_train],\n",
    "    'y_train': data_dict['y_train'][:num_train],\n",
    "    'X_val': data_dict['X_val'],\n",
    "    'y_val': data_dict['y_val'],\n",
    "}\n",
    "\n",
    "model = ThreeLayerConvNet(weight_scale=1e-3,\n",
    "                          **to_float)\n",
    "\n",
    "solver = Solver(model, small_data,\n",
    "                num_epochs=30, batch_size=50,\n",
    "                update_rule=adam,\n",
    "                optim_config={\n",
    "                  'learning_rate': 2e-3,\n",
    "                },\n",
    "                verbose=True, print_every=1,\n",
    "                device='cuda')\n",
    "solver.train()"
   ]
  },
  {
   "cell_type": "markdown",
   "metadata": {
    "button": false,
    "deletable": true,
    "id": "KTDOqqdLw73d",
    "new_sheet": false,
    "run_control": {
     "read_only": false
    }
   },
   "source": [
    "Plotting the loss, training accuracy, and validation accuracy should show clear overfitting:"
   ]
  },
  {
   "cell_type": "code",
   "execution_count": null,
   "metadata": {
    "button": false,
    "deletable": true,
    "id": "fypbffqsw73f",
    "new_sheet": false,
    "run_control": {
     "read_only": false
    }
   },
   "outputs": [],
   "source": [
    "plt.title('Training losses')\n",
    "plt.plot(solver.loss_history, 'o')\n",
    "plt.xlabel('iteration')\n",
    "plt.ylabel('loss')\n",
    "plt.gcf().set_size_inches(9, 4)\n",
    "plt.show()\n",
    "\n",
    "plt.title('Train and Val accuracies')\n",
    "plt.plot(solver.train_acc_history, '-o')\n",
    "plt.plot(solver.val_acc_history, '-o')\n",
    "plt.legend(['train', 'val'], loc='upper left')\n",
    "plt.xlabel('epoch')\n",
    "plt.ylabel('accuracy')\n",
    "plt.gcf().set_size_inches(9, 4)\n",
    "plt.show()"
   ]
  },
  {
   "cell_type": "markdown",
   "metadata": {
    "button": false,
    "deletable": true,
    "id": "W2vnSbfjw73i",
    "new_sheet": false,
    "run_control": {
     "read_only": false
    }
   },
   "source": [
    "### Train the network\n",
    "By training the three-layer convolutional network for one epoch, you should achieve greater than **50% accuracy** on the training set, and greater than **47% accuracy** on the validation set."
   ]
  },
  {
   "cell_type": "code",
   "execution_count": null,
   "metadata": {
    "button": false,
    "deletable": true,
    "id": "nfArKG-Gw73j",
    "new_sheet": false,
    "run_control": {
     "read_only": false
    }
   },
   "outputs": [],
   "source": [
    "from convolutional_networks import ThreeLayerConvNet\n",
    "from fully_connected_networks import adam\n",
    "\n",
    "reset_seed(0)\n",
    "\n",
    "model = ThreeLayerConvNet(weight_scale=0.001, hidden_dim=500, reg=0.001,\n",
    "                          **to_float)\n",
    "\n",
    "solver = Solver(model, data_dict,\n",
    "                num_epochs=1, batch_size=64,\n",
    "                update_rule=adam,\n",
    "                optim_config={\n",
    "                  'learning_rate': 2e-3,\n",
    "                },\n",
    "                verbose=True, print_every=50, device='cuda')\n",
    "solver.train()"
   ]
  },
  {
   "cell_type": "markdown",
   "metadata": {
    "button": false,
    "deletable": true,
    "id": "vIYQ0nm2w73n",
    "new_sheet": false,
    "run_control": {
     "read_only": false
    }
   },
   "source": [
    "### Visualize Filters\n",
    "You can visualize the first-layer convolutional filters from the trained network by running the following:"
   ]
  },
  {
   "cell_type": "code",
   "execution_count": null,
   "metadata": {
    "button": false,
    "deletable": true,
    "id": "n3FLipRY4NUv",
    "new_sheet": false,
    "run_control": {
     "read_only": false
    }
   },
   "outputs": [],
   "source": [
    "from torchvision.utils import make_grid\n",
    "nrow = math.ceil(math.sqrt(model.params['W1'].shape[0]))\n",
    "grid = make_grid(model.params['W1'], nrow=nrow, padding=1, normalize=True,\n",
    "                 scale_each=True)\n",
    "plt.imshow(grid.to(device='cpu').permute(1, 2, 0))\n",
    "plt.axis('off')\n",
    "plt.gcf().set_size_inches(5, 5)\n",
    "plt.show()"
   ]
  },
  {
   "cell_type": "markdown",
   "metadata": {
    "button": false,
    "deletable": true,
    "id": "JleotK9yDcyv",
    "new_sheet": false,
    "run_control": {
     "read_only": false
    }
   },
   "source": [
    "## Deep convolutional network\n",
    "Next, you will implement a deep convolutional network with an arbitrary number of conv layers in VGGNet style.\n",
    "\n",
    "Read through the `DeepConvNet` class.\n",
    "\n",
    "Implement the initialization, the forward pass, and the backward pass.\n",
    "For the moment, don't worry about implementing batch normalization; we will add those features soon. Again, we **STRONGLY** recommend you to use the fast/sandwich layers (already implemented for you) in your implementation."
   ]
  },
  {
   "cell_type": "markdown",
   "metadata": {
    "button": false,
    "deletable": true,
    "id": "0AC0R6dv059E",
    "new_sheet": false,
    "run_control": {
     "read_only": false
    }
   },
   "source": [
    "### Sanity check loss\n",
    "After you build a new network, one of the things you should do first is sanity check the loss. When we use the softmax loss, we expect the loss for random weights (and no regularization) to be about `log(C)` for a `C`-class classification task. When we add regularization, the loss should go up slightly."
   ]
  },
  {
   "cell_type": "code",
   "execution_count": null,
   "metadata": {
    "button": false,
    "deletable": true,
    "id": "MPfK4L5P059L",
    "new_sheet": false,
    "run_control": {
     "read_only": false
    }
   },
   "outputs": [],
   "source": [
    "from convolutional_networks import DeepConvNet\n",
    "\n",
    "reset_seed(0)\n",
    "input_dims = (3, 32, 32)\n",
    "model = DeepConvNet(num_filters=[8, 64], max_pools=[0, 1], **to_double)\n",
    "\n",
    "N = 50\n",
    "X = torch.randn(N, *input_dims, **to_double)\n",
    "y = torch.randint(10, size=(N,), **to_long)\n",
    "\n",
    "loss, grads = model.loss(X, y)\n",
    "print('Initial loss (no regularization):', loss.item())\n",
    "\n",
    "model.reg = 2.\n",
    "loss, grads = model.loss(X, y)\n",
    "print('Initial loss (with regularization):', loss.item())"
   ]
  },
  {
   "cell_type": "markdown",
   "metadata": {
    "button": false,
    "deletable": true,
    "id": "8BfRDkEj1TX8",
    "new_sheet": false,
    "run_control": {
     "read_only": false
    }
   },
   "source": [
    "### Gradient check\n",
    "After you confirm the loss looks reasonable, use numeric gradient checking to make sure that your backward pass is correct. When you use numeric gradient checking, you should use a small amount of artificial data and a small number of neurons at each layer.\n",
    "\n",
    "You should get errors less than `1e-5`."
   ]
  },
  {
   "cell_type": "code",
   "execution_count": null,
   "metadata": {
    "button": false,
    "deletable": true,
    "id": "qiPiP1X11TYA",
    "new_sheet": false,
    "run_control": {
     "read_only": false
    }
   },
   "outputs": [],
   "source": [
    "from convolutional_networks import DeepConvNet\n",
    "\n",
    "reset_seed(0)\n",
    "num_inputs = 2\n",
    "input_dims = (3, 8, 8)\n",
    "num_classes = 10\n",
    "X = torch.randn(N, *input_dims, **to_double)\n",
    "y = torch.randint(10, size=(N,), **to_long)\n",
    "\n",
    "for reg in [0, 3.14]:\n",
    "    print('Running check with reg =', reg)\n",
    "    model = DeepConvNet(input_dims=input_dims, num_classes=num_classes,\n",
    "                        num_filters=[8, 8, 8],\n",
    "                        max_pools=[0, 2],\n",
    "                        reg=reg,\n",
    "                        weight_scale=5e-2, **to_double)\n",
    "\n",
    "    loss, grads = model.loss(X, y)\n",
    "\n",
    "    for param_name in sorted(grads):\n",
    "        f = lambda _: model.loss(X, y)[0]\n",
    "        grad_num = compute_numeric_gradient(f, model.params[param_name])\n",
    "        print('%s max relative error: %e' % (param_name, rel_error(grad_num, grads[param_name])))\n",
    "    if reg == 0: print()"
   ]
  },
  {
   "cell_type": "markdown",
   "metadata": {
    "button": false,
    "deletable": true,
    "id": "1_njNfEh3cxs",
    "new_sheet": false,
    "run_control": {
     "read_only": false
    }
   },
   "source": [
    "### Overfit small data\n",
    "As another sanity check, make sure you can overfit a small dataset of 50 images.\n",
    "**Implement** `find_overfit_parameters` tweaking the **learning rate** and **weight initialization scale** to overfit and achieve 100% training accuracy within 30 epochs."
   ]
  },
  {
   "cell_type": "code",
   "execution_count": null,
   "metadata": {
    "button": false,
    "deletable": true,
    "id": "2NccCDJ3e1DR",
    "new_sheet": false,
    "run_control": {
     "read_only": false
    }
   },
   "outputs": [],
   "source": [
    "# Use a DeepConvNet to overfit 50 training examples by\n",
    "# tweaking just the learning rate and initialization scale.\n",
    "from convolutional_networks import DeepConvNet, find_overfit_parameters\n",
    "from fully_connected_networks import adam\n",
    "\n",
    "reset_seed(0)\n",
    "num_train = 50\n",
    "small_data = {\n",
    "    'X_train': data_dict['X_train'][:num_train],\n",
    "    'y_train': data_dict['y_train'][:num_train],\n",
    "    'X_val': data_dict['X_val'],\n",
    "    'y_val': data_dict['y_val'],\n",
    "}\n",
    "input_dims = small_data['X_train'].shape[1:]\n",
    "\n",
    "\n",
    "# Update the parameters in find_overfit_parameters in convolutional_networks.py\n",
    "weight_scale, learning_rate = find_overfit_parameters()\n",
    "\n",
    "\n",
    "model = DeepConvNet(input_dims=input_dims, num_classes=10,\n",
    "                    num_filters=[8, 16, 32, 64],\n",
    "                    max_pools=[0, 1, 2, 3],\n",
    "                    reg=1e-5, weight_scale=weight_scale, **to_float)\n",
    "solver = Solver(model, small_data,\n",
    "                print_every=10, num_epochs=30, batch_size=10,\n",
    "                update_rule=adam,\n",
    "                optim_config={\n",
    "                  'learning_rate': learning_rate,\n",
    "                },\n",
    "                device='cuda',\n",
    "         )\n",
    "# Turn off keep_best_params to allow final weights to be saved, instead of best weights on validation set.\n",
    "solver.train(return_best_params=False)\n",
    "\n",
    "plt.plot(solver.loss_history, 'o')\n",
    "plt.title('Training loss history')\n",
    "plt.xlabel('Iteration')\n",
    "plt.ylabel('Training loss')\n",
    "plt.show()\n",
    "\n",
    "train_acc = solver.check_accuracy(solver.X_train, solver.y_train, num_samples=solver.num_train_samples)\n",
    "print('Training set accuracy:', train_acc)"
   ]
  },
  {
   "cell_type": "markdown",
   "metadata": {
    "button": false,
    "deletable": true,
    "id": "rkoW8ir6N0aP",
    "new_sheet": false,
    "run_control": {
     "read_only": false
    }
   },
   "source": [
    "If you're happy with the model's performance, run the following cell to save it.\n",
    "\n",
    "We will also reload the model and run it on the training data to verify it's the right weights."
   ]
  },
  {
   "cell_type": "code",
   "execution_count": null,
   "metadata": {
    "button": false,
    "deletable": true,
    "id": "5p-ZeicrNz8j",
    "new_sheet": false,
    "run_control": {
     "read_only": false
    }
   },
   "outputs": [],
   "source": [
    "path = os.path.join(GOOGLE_DRIVE_PATH, 'overfit_deepconvnet.pt')\n",
    "solver.model.save(path)\n",
    "\n",
    "# Create a new instance\n",
    "model = DeepConvNet(input_dims=input_dims, num_classes=10,\n",
    "                    num_filters=[8, 16, 32, 64],\n",
    "                    max_pools=[0, 1, 2, 3],\n",
    "                    reg=1e-5, weight_scale=weight_scale, **to_float)\n",
    "solver = Solver(model, small_data,\n",
    "                print_every=10, num_epochs=30, batch_size=10,\n",
    "                update_rule=adam,\n",
    "                optim_config={\n",
    "                  'learning_rate': learning_rate,\n",
    "                },\n",
    "                device='cuda',\n",
    "         )\n",
    "\n",
    "\n",
    "# Load model\n",
    "solver.model.load(path, **to_float)\n",
    "\n",
    "# Evaluate on validation set\n",
    "accuracy = solver.check_accuracy(small_data['X_train'], small_data['y_train'])\n",
    "print(f\"Saved model's accuracy on training is {accuracy}\")"
   ]
  },
  {
   "cell_type": "markdown",
   "metadata": {
    "button": false,
    "deletable": true,
    "id": "FI3LznMXRnad",
    "new_sheet": false,
    "run_control": {
     "read_only": false
    }
   },
   "source": [
    "## Kaiming initialization\n",
    "So far, you manually tuned the weight scale and for weight initialization.\n",
    "However, this is inefficient when it comes to training deep neural networks; practically, as your weight matrix is larger, the weight scale should be small.\n",
    "**Implement** `kaiming_initializer` for [Kaiming initialization](https://arxiv.org/abs/1502.01852). For more details, refer to [PyTorch documentation](https://pytorch.org/docs/stable/nn.init.html#torch.nn.init.kaiming_normal_).\n",
    "\n",
    "After implementing the Kaiming initialization, run the following to check your implementation. You should get errors less than `1e-3`."
   ]
  },
  {
   "cell_type": "code",
   "execution_count": null,
   "metadata": {
    "id": "B58Ua9xn13ON"
   },
   "outputs": [],
   "source": [
    "from convolutional_networks import kaiming_initializer\n",
    "\n",
    "reset_seed(0)\n",
    "\n",
    "print('Kaiming init for Linear:')\n",
    "w1 = kaiming_initializer(400, 2000, relu=False)\n",
    "print('mean error:', w1.mean().abs().item())\n",
    "print('std  error:', rel_error(w1.std(), torch.tensor(.05)))\n",
    "\n",
    "print('\\nKaiming init for Linear followed by ReLU:')\n",
    "w2 = kaiming_initializer(200, 2000, relu=True)\n",
    "print('mean error:', w2.mean().abs().item())\n",
    "print('std  error:', rel_error(w2.std(), torch.tensor(.1)))\n",
    "\n",
    "print('\\nKaiming init for Conv:')\n",
    "w3 = kaiming_initializer(100, 2000, 4, relu=False)\n",
    "print('mean error:', w3.mean().abs().item())\n",
    "print('std  error:', rel_error(w3.std(), torch.tensor(.025)))\n",
    "\n",
    "print('\\nKaiming init for Conv followed by ReLU:')\n",
    "w4 = kaiming_initializer(200, 2000, 5, relu=True)\n",
    "print('mean error:', w4.mean().abs().item())\n",
    "print('std  error:', rel_error(w4.std(), torch.tensor(.02)))"
   ]
  },
  {
   "cell_type": "markdown",
   "metadata": {
    "button": false,
    "deletable": true,
    "id": "XkZL_lsufSVZ",
    "new_sheet": false,
    "run_control": {
     "read_only": false
    }
   },
   "source": [
    "### Convolutional networks with Kaiming initialization\n",
    "\n",
    "Now that you have a working implementation for Kaiming initialization, go back to your `DeepConvnet`. Modify your implementation to add Kaiming initialization.\n",
    "\n",
    "Concretely, when the `weight_scale` is set to `'kaiming'` in the constructor, you should initialize weights of convolutional and linear layers using `kaiming_initializer`. Once you are done, run the following to see the effect of kaiming initialization in deep CNNs.\n",
    "\n",
    "In this experiment, we train a 31-layer network with four different weight initialization schemes. Among them, only the Kaiming initialization method should achieve a non-random accuracy after one epoch of training.\n",
    "\n",
    "You may see a very high or even `nan` loss when `weight_scale` is large, this shows a catastrophe of inappropriate weight initialization."
   ]
  },
  {
   "cell_type": "code",
   "execution_count": null,
   "metadata": {
    "button": false,
    "deletable": true,
    "id": "sQJKcH60jfTm",
    "new_sheet": false,
    "run_control": {
     "read_only": false
    }
   },
   "outputs": [],
   "source": [
    "from convolutional_networks import DeepConvNet\n",
    "\n",
    "reset_seed(0)\n",
    "\n",
    "# Try training a deep convolutional net with different weight initialization methods\n",
    "num_train = 10000\n",
    "small_data = {\n",
    "    'X_train': data_dict['X_train'][:num_train],\n",
    "    'y_train': data_dict['y_train'][:num_train],\n",
    "    'X_val': data_dict['X_val'],\n",
    "    'y_val': data_dict['y_val'],\n",
    "}\n",
    "input_dims = data_dict['X_train'].shape[1:]\n",
    "\n",
    "weight_scales = ['kaiming', 1e-1, 1e-2, 1e-3]\n",
    "\n",
    "solvers = []\n",
    "for weight_scale in weight_scales:\n",
    "    print('Solver with weight scale:', weight_scale)\n",
    "    model = DeepConvNet(input_dims=input_dims, num_classes=10,\n",
    "                        num_filters=([8] * 10) + ([32] * 10) + ([128] * 10),\n",
    "                        max_pools=[9, 19],\n",
    "                        weight_scale=weight_scale,\n",
    "                        reg=1e-5,\n",
    "                        **to_float\n",
    "                        )\n",
    "\n",
    "    solver = Solver(model, small_data,\n",
    "                    num_epochs=1, batch_size=128,\n",
    "                    optim_config={\n",
    "                    'learning_rate': 2e-3,\n",
    "                    },\n",
    "                    print_every=20, device='cuda')\n",
    "    solver.train()\n",
    "    solvers.append(solver)"
   ]
  },
  {
   "cell_type": "code",
   "execution_count": null,
   "metadata": {
    "button": false,
    "deletable": true,
    "id": "uG-dQDRCH_XD",
    "new_sheet": false,
    "run_control": {
     "read_only": false
    }
   },
   "outputs": [],
   "source": [
    "def plot_training_history_init(title, xlabel, solvers, labels, plot_fn, marker='-o'):\n",
    "    plt.title(title)\n",
    "    plt.xlabel(xlabel)\n",
    "    for solver, label in zip(solvers, labels):\n",
    "        data = plot_fn(solver)\n",
    "        label = 'weight_scale=' + str(label)\n",
    "        plt.plot(data, marker, label=label)\n",
    "    plt.legend(loc='lower center', ncol=len(solvers))\n",
    "    if 'loss' in title:\n",
    "        plt.ylim([2, 2.5])\n",
    "\n",
    "plt.subplot(3, 1, 1)\n",
    "plot_training_history_init('Training loss','Iteration', solvers, weight_scales,\n",
    "                            lambda x: x.loss_history, marker='o')\n",
    "plt.subplot(3, 1, 2)\n",
    "plot_training_history_init('Training accuracy','Epoch', solvers, weight_scales,\n",
    "                           lambda x: x.train_acc_history)\n",
    "plt.subplot(3, 1, 3)\n",
    "plot_training_history_init('Validation accuracy','Epoch', solvers, weight_scales,\n",
    "                           lambda x: x.val_acc_history)\n",
    "plt.gcf().set_size_inches(15, 25)\n",
    "plt.show()"
   ]
  },
  {
   "cell_type": "markdown",
   "metadata": {
    "button": false,
    "deletable": true,
    "id": "ogx_-gJ1e1EO",
    "new_sheet": false,
    "run_control": {
     "read_only": false
    }
   },
   "source": [
    "## Train a good model!\n",
    "Train the best convolutional network that you can on CIFAR-10, storing your best model in the `best_model` variable. We require you to get at least **71% accuracy** on the validation set using a convolutional net, within **30 seconds** of training. To make your model environmentally friendly, we limit the model size to less than **20MB**.\n",
    "\n",
    "**Implement** `create_convolutional_solver_instance` while making sure to initialize your model with the input `dtype` and `device`, as well as initializing the solver on the input `device`.\n",
    "\n",
    "**Hint 1:** While we do not limit the number of layers, your model does not have to be too deep. Three convolutional layers might be sufficient, and we could achieve 74% validation accuracy with the model size of less than **2MB**.\n",
    "\n",
    "**Hint 2:** You might find it useful to use batch normalization, which is introduced later, but we could achieve 74% validation accuracy without batch normalization.\n",
    "\n",
    "**Hint 3:** We used `batch_size = 128` for training a model with 74% validation accuracy. You don't have to follow this, but it would save your time for hyperparameter search.\n",
    "\n",
    "**Hint 4:** Note that we import all the optimizers from `fully_connected_networks`, so feel free to use the optimizers you've already implemented; e.g., `adam`."
   ]
  },
  {
   "cell_type": "code",
   "execution_count": null,
   "metadata": {
    "button": false,
    "deletable": true,
    "id": "UPRQvUDJe1EQ",
    "new_sheet": false,
    "run_control": {
     "read_only": false
    }
   },
   "outputs": [],
   "source": [
    "from convolutional_networks import DeepConvNet, create_convolutional_solver_instance\n",
    "\n",
    "torch.backends.cudnn.deterministic = True\n",
    "reset_seed(0)\n",
    "\n",
    "solver = create_convolutional_solver_instance(data_dict, **to_float)\n",
    "\n",
    "solver.train(time_limit=30)"
   ]
  },
  {
   "cell_type": "markdown",
   "metadata": {
    "button": false,
    "deletable": true,
    "id": "uZWeaN-6e1ET",
    "new_sheet": false,
    "run_control": {
     "read_only": false
    }
   },
   "source": [
    "## Test your model!\n",
    "Run your best model on the validation and test sets. You should achieve at least **71% accuracy** on the validation set and **70% accuracy** on the test set.\n",
    "\n",
    "(Our best model gets 74.3% validation accuracy and 73.5% test accuracy -- can you beat ours?)\n"
   ]
  },
  {
   "cell_type": "code",
   "execution_count": null,
   "metadata": {
    "button": false,
    "deletable": true,
    "id": "xdVs_GEse1EU",
    "new_sheet": false,
    "run_control": {
     "read_only": false
    }
   },
   "outputs": [],
   "source": [
    "print('Validation set accuracy:', solver.check_accuracy(data_dict['X_val'], data_dict['y_val']))\n",
    "print('Test set accuracy:', solver.check_accuracy(data_dict['X_test'], data_dict['y_test']))"
   ]
  },
  {
   "cell_type": "markdown",
   "metadata": {
    "button": false,
    "deletable": true,
    "id": "M6hnNF-pR235",
    "new_sheet": false,
    "run_control": {
     "read_only": false
    }
   },
   "source": [
    "If you're happy with the model's performance, run the following cell to save it.\n",
    "Make sure your model size is less than **20MB**.\n",
    "\n",
    "We will also reload the model and run it on the training data to verify it's the right weights."
   ]
  },
  {
   "cell_type": "code",
   "execution_count": null,
   "metadata": {
    "button": false,
    "deletable": true,
    "id": "hL6X4C-yR4xZ",
    "new_sheet": false,
    "run_control": {
     "read_only": false
    }
   },
   "outputs": [],
   "source": [
    "path = os.path.join(GOOGLE_DRIVE_PATH, 'half_minute_deepconvnet.pt')\n",
    "solver.model.save(path)\n",
    "\n",
    "# Create a new instance\n",
    "from convolutional_networks import DeepConvNet, create_convolutional_solver_instance\n",
    "\n",
    "solver = create_convolutional_solver_instance(data_dict, **to_float)\n",
    "\n",
    "# Load model\n",
    "solver.model.load(path, **to_float)\n",
    "\n",
    "# Evaluate on validation set\n",
    "print('Validation set accuracy:', solver.check_accuracy(data_dict['X_val'], data_dict['y_val']))\n",
    "print('Test set accuracy:', solver.check_accuracy(data_dict['X_test'], data_dict['y_test']))"
   ]
  },
  {
   "cell_type": "markdown",
   "metadata": {
    "button": false,
    "deletable": true,
    "id": "KqsqNYOVwypM",
    "new_sheet": false,
    "run_control": {
     "read_only": false
    },
    "tags": [
     "pdf-title"
    ]
   },
   "source": [
    "# Batch Normalization\n",
    "One way to make deep networks easier to train is to use more sophisticated optimization procedures such as SGD+momentum, RMSProp, or Adam. Another strategy is to change the architecture of the network to make it easier to train.\n",
    "One idea along these lines is batch normalization which was proposed by [1] in 2015.\n",
    "\n",
    "The idea is relatively straightforward. Machine learning methods tend to work better when their input data consists of uncorrelated features with zero mean and unit variance. When training a neural network, we can preprocess the data before feeding it to the network to explicitly decorrelate its features; this will ensure that the first layer of the network sees data that follows a nice distribution. However, even if we preprocess the input data, the activations at deeper layers of the network will likely no longer be decorrelated and will no longer have zero mean or unit variance since they are output from earlier layers in the network. Even worse, during the training process the distribution of features at each layer of the network will shift as the weights of each layer are updated.\n",
    "\n",
    "The authors of [1] hypothesize that the shifting distribution of features inside deep neural networks may make training deep networks more difficult. To overcome this problem, [1] proposes to insert batch normalization layers into the network. At training time, a batch normalization layer uses a minibatch of data to estimate the mean and standard deviation of each feature. These estimated means and standard deviations are then used to center and normalize the features of the minibatch. A running average of these means and standard deviations is kept during training, and at test time these running averages are used to center and normalize features.\n",
    "\n",
    "It is possible that this normalization strategy could reduce the representational power of the network, since it may sometimes be optimal for certain layers to have features that are not zero-mean or unit variance. To this end, the batch normalization layer includes learnable shift and scale parameters for each feature dimension.\n",
    "\n",
    "[1] [Sergey Ioffe and Christian Szegedy, \"Batch Normalization: Accelerating Deep Network Training by Reducing\n",
    "Internal Covariate Shift\", ICML 2015.](https://arxiv.org/abs/1502.03167)"
   ]
  },
  {
   "cell_type": "markdown",
   "metadata": {
    "button": false,
    "deletable": true,
    "id": "s0ELNJIlwypX",
    "new_sheet": false,
    "run_control": {
     "read_only": false
    }
   },
   "source": [
    "## Batch normalization: forward\n",
    "Implement the batch normalization forward pass in the function `BatchNorm.forward`. Once you have done so, run the following to test your implementation.\n",
    "\n",
    "Referencing the paper linked to above in [1] may be helpful!"
   ]
  },
  {
   "cell_type": "markdown",
   "metadata": {
    "button": false,
    "deletable": true,
    "id": "q9cFW4heSrpt",
    "new_sheet": false,
    "run_control": {
     "read_only": false
    }
   },
   "source": [
    "After implementing the forward pass for batch normalization, you can run the following to sanity check your implementation. After running batch normalization with `beta=0` and `gamma=1`, the data should have approximately zero mean and unit variance; difference should be around `1e-1` or less.\n",
    "\n",
    "After running batch normalization with nontrivial `beta` and `gamma`, the output data should have mean approximately equal to `beta`, and std approximatly equal to `gamma`."
   ]
  },
  {
   "cell_type": "code",
   "execution_count": null,
   "metadata": {
    "button": false,
    "deletable": true,
    "id": "7iB1mAkLwypZ",
    "new_sheet": false,
    "run_control": {
     "read_only": false
    }
   },
   "outputs": [],
   "source": [
    "# Check the training-time forward pass by checking means and variances\n",
    "# of features both before and after batch normalization\n",
    "from convolutional_networks import BatchNorm\n",
    "\n",
    "def print_mean_std(x,dim=0):\n",
    "    means = ['%.3f' % xx for xx in x.mean(dim=dim).tolist()]\n",
    "    stds = ['%.3f' % xx for xx in x.std(dim=dim).tolist()]\n",
    "    print('  Means:', means)\n",
    "    print('  Stds :', stds)\n",
    "    print()\n",
    "\n",
    "# Simulate the forward pass for a two-layer network\n",
    "reset_seed(0)\n",
    "N, D1, D2, D3 = 200, 50, 60, 3\n",
    "X = torch.randn(N, D1, **to_double)\n",
    "W1 = torch.randn(D1, D2, **to_double)\n",
    "W2 = torch.randn(D2, D3, **to_double)\n",
    "a = X.matmul(W1).clamp(min=0.).matmul(W2)\n",
    "\n",
    "print('Before batch normalization:')\n",
    "print_mean_std(a,dim=0)\n",
    "\n",
    "# Run with gamma=1, beta=0. Means should be close to zero and stds close to one\n",
    "gamma = torch.ones(D3, **to_double)\n",
    "beta = torch.zeros(D3, **to_double)\n",
    "print('After batch normalization (gamma=1, beta=0)')\n",
    "a_norm, _ = BatchNorm.forward(a, gamma, beta, {'mode': 'train'})\n",
    "print_mean_std(a_norm,dim=0)\n",
    "\n",
    "# Run again with nontrivial gamma and beta. Now means should be close to beta\n",
    "# and std should be close to gamma.\n",
    "gamma = torch.tensor([1.0, 2.0, 3.0], **to_double)\n",
    "beta = torch.tensor([11.0, 12.0, 13.0], **to_double)\n",
    "print('After batch normalization (gamma=', gamma.tolist(), ', beta=', beta.tolist(), ')')\n",
    "a_norm, _ = BatchNorm.forward(a, gamma, beta, {'mode': 'train'})\n",
    "print_mean_std(a_norm,dim=0)"
   ]
  },
  {
   "cell_type": "markdown",
   "metadata": {
    "button": false,
    "deletable": true,
    "id": "qGUPz4t_Tam4",
    "new_sheet": false,
    "run_control": {
     "read_only": false
    }
   },
   "source": [
    "We can sanity-check the test-time forward pass of batch normalization by running the following. First we run the training-time forward pass many times to \"warm up\" the running averages. If we then run a test-time forward pass, the output should have approximately zero mean and unit variance; difference should be around `1e-1` or less."
   ]
  },
  {
   "cell_type": "code",
   "execution_count": null,
   "metadata": {
    "button": false,
    "deletable": true,
    "id": "w8lPQyI9wype",
    "new_sheet": false,
    "run_control": {
     "read_only": false
    }
   },
   "outputs": [],
   "source": [
    "from convolutional_networks import BatchNorm\n",
    "\n",
    "reset_seed(0)\n",
    "N, D1, D2, D3 = 200, 50, 60, 3\n",
    "W1 = torch.randn(D1, D2, **to_double)\n",
    "W2 = torch.randn(D2, D3, **to_double)\n",
    "\n",
    "bn_param = {'mode': 'train'}\n",
    "gamma = torch.ones(D3, **to_double)\n",
    "beta = torch.zeros(D3, **to_double)\n",
    "\n",
    "for t in range(500):\n",
    "    X = torch.randn(N, D1, **to_double)\n",
    "    a = X.matmul(W1).clamp(min=0.).matmul(W2)\n",
    "    BatchNorm.forward(a, gamma, beta, bn_param)\n",
    "\n",
    "bn_param['mode'] = 'test'\n",
    "X = torch.randn(N, D1, **to_double)\n",
    "a = X.matmul(W1).clamp(min=0.).matmul(W2)\n",
    "a_norm, _ = BatchNorm.forward(a, gamma, beta, bn_param)\n",
    "\n",
    "# Means should be close to zero and stds close to one, but will be\n",
    "# noisier than training-time forward passes.\n",
    "print('After batch normalization (test-time):')\n",
    "print_mean_std(a_norm,dim=0)"
   ]
  },
  {
   "cell_type": "markdown",
   "metadata": {
    "button": false,
    "deletable": true,
    "id": "jt0hsHxIwypj",
    "new_sheet": false,
    "run_control": {
     "read_only": false
    }
   },
   "source": [
    "## Batch normalization: backward\n",
    "Now implement the backward pass for batch normalization in the function `BatchNorm.backward`.\n",
    "\n",
    "To derive the backward pass you should write out the computation graph for batch normalization and backprop through each of the intermediate nodes. Some intermediates may have multiple outgoing branches; make sure to sum gradients across these branches in the backward pass.\n",
    "\n",
    "**Don't forget to implement the train and test mode separately.**\n",
    "\n",
    "Once you have finished, run the following to numerically check your backward pass. You should get errors less than `1e-7`."
   ]
  },
  {
   "cell_type": "code",
   "execution_count": null,
   "metadata": {
    "button": false,
    "deletable": true,
    "id": "n2pMzvTqwypk",
    "new_sheet": false,
    "run_control": {
     "read_only": false
    }
   },
   "outputs": [],
   "source": [
    "from convolutional_networks import BatchNorm\n",
    "\n",
    "# Gradient check batchnorm backward pass\n",
    "reset_seed(0)\n",
    "N, D = 4, 5\n",
    "x = 5 * torch.randn(N, D, **to_double) + 12\n",
    "gamma = torch.randn(D, **to_double)\n",
    "beta = torch.randn(D, **to_double)\n",
    "dout = torch.randn(N, D, **to_double)\n",
    "\n",
    "bn_param = {'mode': 'train'}\n",
    "fx = lambda x: BatchNorm.forward(x, gamma, beta, bn_param)[0]\n",
    "fg = lambda a: BatchNorm.forward(x, a, beta, bn_param)[0]\n",
    "fb = lambda b: BatchNorm.forward(x, gamma, b, bn_param)[0]\n",
    "\n",
    "dx_num = compute_numeric_gradient(fx, x, dout)\n",
    "da_num = compute_numeric_gradient(fg, gamma.clone(), dout)\n",
    "db_num = compute_numeric_gradient(fb, beta.clone(), dout)\n",
    "\n",
    "_, cache = BatchNorm.forward(x, gamma, beta, bn_param)\n",
    "dx, dgamma, dbeta = BatchNorm.backward(dout, cache)\n",
    "\n",
    "print('dx error:', rel_error(dx_num, dx))\n",
    "print('dgamma error:', rel_error(da_num, dgamma))\n",
    "print('dbeta error:', rel_error(db_num, dbeta))"
   ]
  },
  {
   "cell_type": "markdown",
   "metadata": {
    "button": false,
    "deletable": true,
    "id": "hFxuZMUAwypp",
    "new_sheet": false,
    "run_control": {
     "read_only": false
    }
   },
   "source": [
    "## (Challenge Question) Batch Normalization: alternative backward\n",
    "In the lecture on backpropagation, we talked about two different implementations for the sigmoid backward pass. One strategy is to write out a computation graph composed of simple operations and backprop through all intermediate values. Another strategy is to work out the derivatives on paper. For example, you can derive a very simple formula for the sigmoid function's backward pass by simplifying gradients on paper.\n",
    "\n",
    "Surprisingly, it turns out that you can do a similar simplification for the batch normalization backward pass too!\n",
    "\n",
    "In the forward pass, given a set of inputs $X=\\begin{bmatrix}x_1\\\\x_2\\\\...\\\\x_N\\end{bmatrix}$,\n",
    "\n",
    "we first calculate the mean $\\mu$ and variance $v$.\n",
    "With $\\mu$ and $v$ calculated, we can calculate the standard deviation $\\sigma$  and normalized data $Y$.\n",
    "The equations and graph illustration below describe the computation ($y_i$ is the i-th element of the vector $Y$).\n",
    "\n",
    "\\begin{align}\n",
    "& \\mu=\\frac{1}{N}\\sum_{k=1}^N x_k  &  v=\\frac{1}{N}\\sum_{k=1}^N (x_k-\\mu)^2 \\\\\n",
    "& \\sigma=\\sqrt{v+\\epsilon}         &  y_i=\\frac{x_i-\\mu}{\\sigma}\n",
    "\\end{align}"
   ]
  },
  {
   "cell_type": "markdown",
   "metadata": {
    "button": false,
    "deletable": true,
    "id": "gVoopiQ7wypr",
    "new_sheet": false,
    "run_control": {
     "read_only": false
    }
   },
   "source": [
    "![batchnorm_graph.png](data:image/png;base64,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)"
   ]
  },
  {
   "cell_type": "markdown",
   "metadata": {
    "button": false,
    "deletable": true,
    "id": "EDTJ6AXawypt",
    "new_sheet": false,
    "run_control": {
     "read_only": false
    },
    "tags": [
     "pdf-ignore"
    ]
   },
   "source": [
    "The meat of our problem during backpropagation is to compute $\\frac{\\partial L}{\\partial X}$, given the upstream gradient we receive, $\\frac{\\partial L}{\\partial Y}.$ To do this, recall the chain rule in calculus gives us $\\frac{\\partial L}{\\partial X} = \\frac{\\partial L}{\\partial Y} \\cdot \\frac{\\partial Y}{\\partial X}$.\n",
    "\n",
    "The unknown/hart part is $\\frac{\\partial Y}{\\partial X}$. We can find this by first deriving step-by-step our local gradients at\n",
    "$\\frac{\\partial v}{\\partial X}$, $\\frac{\\partial \\mu}{\\partial X}$,\n",
    "$\\frac{\\partial \\sigma}{\\partial v}$,\n",
    "$\\frac{\\partial Y}{\\partial \\sigma}$, and $\\frac{\\partial Y}{\\partial \\mu}$,\n",
    "and then use the chain rule to compose these gradients (which appear in the form of vectors!) appropriately to compute $\\frac{\\partial Y}{\\partial X}$.\n",
    "\n",
    "If it's challenging to directly reason about the gradients over $X$ and $Y$ which require matrix multiplication, try reasoning about the gradients in terms of individual elements $x_i$ and $y_i$ first: in that case, you will need to come up with the derivations for $\\frac{\\partial L}{\\partial x_i}$, by relying on the Chain Rule to first calculate the intermediate $\\frac{\\partial \\mu}{\\partial x_i}, \\frac{\\partial v}{\\partial x_i}, \\frac{\\partial \\sigma}{\\partial x_i},$ then assemble these pieces to calculate $\\frac{\\partial y_i}{\\partial x_i}$.\n",
    "\n",
    "You should make sure each of the intermediary gradient derivations are all as simplified as possible, for ease of implementation.\n",
    "\n",
    "After doing so, implement the simplified batch normalization backward pass in the function `BatchNorm.backward_alt` and compare the two implementations by running the following. Your two implementations should compute nearly identical results, but the alternative implementation should be a bit faster, around 1.1x to 4x."
   ]
  },
  {
   "cell_type": "code",
   "execution_count": null,
   "metadata": {
    "button": false,
    "deletable": true,
    "id": "cJZp2i7ywypv",
    "new_sheet": false,
    "run_control": {
     "read_only": false
    }
   },
   "outputs": [],
   "source": [
    "from convolutional_networks import BatchNorm\n",
    "\n",
    "reset_seed(0)\n",
    "N, D = 128, 2048\n",
    "x = 5 * torch.randn(N, D, **to_double) + 12\n",
    "gamma = torch.randn(D, **to_double)\n",
    "beta = torch.randn(D, **to_double)\n",
    "dout = torch.randn(N, D, **to_double)\n",
    "\n",
    "bn_param = {'mode': 'train'}\n",
    "out, cache = BatchNorm.forward(x, gamma, beta, bn_param)\n",
    "\n",
    "t1 = time.time()\n",
    "dx1, dgamma1, dbeta1 = BatchNorm.backward(dout, cache)\n",
    "t2 = time.time()\n",
    "dx2, dgamma2, dbeta2 = BatchNorm.backward_alt(dout, cache)\n",
    "t3 = time.time()\n",
    "\n",
    "print('dx difference:', rel_error(dx1, dx2))\n",
    "print('dgamma difference:', rel_error(dgamma1, dgamma2))\n",
    "print('dbeta difference:', rel_error(dbeta1, dbeta2))\n",
    "print('speedup: %.2fx' % ((t2 - t1) / (t3 - t2)))"
   ]
  },
  {
   "cell_type": "markdown",
   "metadata": {
    "button": false,
    "deletable": true,
    "id": "uIJWjzFZw73z",
    "new_sheet": false,
    "run_control": {
     "read_only": false
    }
   },
   "source": [
    "# Spatial Batch Normalization\n",
    "As proposed in the original paper, batch normalization can also be used for convolutional networks, but we need to tweak it a bit; the modification will be called \"spatial batch normalization.\"\n",
    "\n",
    "Note that batch normalization accepts inputs of shape `(N, D)` and produces outputs of shape `(N, D)`, where we normalize across the minibatch dimension `N`. For data coming from convolutional layers, batch normalization needs to accept inputs of shape `(N, C, H, W)` and produce outputs of shape `(N, C, H, W)` where the `N` dimension gives the minibatch size and the `(H, W)` dimensions give the spatial size of the feature map.\n",
    "\n",
    "If the feature map was produced using convolutions, then we expect every feature channel's statistics (mean and variance) to be relatively consistent not only between different images, but also different locations within the same image -- after all, every feature channel is produced by the same convolutional filter! Therefore spatial batch normalization computes a mean and variance for each of the `C` feature channels by computing statistics over the minibatch dimension `N` as well the spatial dimensions `H` and `W`.\n",
    "\n",
    "\n",
    "[1] [Sergey Ioffe and Christian Szegedy, \"Batch Normalization: Accelerating Deep Network Training by Reducing\n",
    "Internal Covariate Shift\", ICML 2015.](https://arxiv.org/abs/1502.03167)"
   ]
  },
  {
   "cell_type": "markdown",
   "metadata": {
    "button": false,
    "deletable": true,
    "id": "oqCmKCw7w730",
    "new_sheet": false,
    "run_control": {
     "read_only": false
    }
   },
   "source": [
    "## Spatial batch normalization: forward\n",
    "\n",
    "Implement the forward pass for spatial batch normalization in the function `SpatialBatchNorm.forward`. Check your implementation by running the following:"
   ]
  },
  {
   "cell_type": "markdown",
   "metadata": {
    "button": false,
    "deletable": true,
    "id": "5ZHLPa6-UkY1",
    "new_sheet": false,
    "run_control": {
     "read_only": false
    }
   },
   "source": [
    "\n",
    "After implementing the forward pass for spatial batch normalization, you can run the following to sanity check your code."
   ]
  },
  {
   "cell_type": "code",
   "execution_count": null,
   "metadata": {
    "button": false,
    "deletable": true,
    "id": "3x-vfMnIw732",
    "new_sheet": false,
    "run_control": {
     "read_only": false
    }
   },
   "outputs": [],
   "source": [
    "from convolutional_networks import SpatialBatchNorm\n",
    "\n",
    "reset_seed(0)\n",
    "# Check the training-time forward pass by checking means and variances\n",
    "# of features both before and after spatial batch normalization\n",
    "\n",
    "N, C, H, W = 2, 3, 4, 5\n",
    "x = 4 * torch.randn(N, C, H, W, **to_double) + 10\n",
    "\n",
    "print('Before spatial batch normalization:')\n",
    "print('  Shape:', x.shape)\n",
    "print('  Means:', x.mean(dim=(0, 2, 3)))\n",
    "print('  Stds:', x.std(dim=(0, 2, 3)))\n",
    "\n",
    "# Means should be close to zero and stds close to one\n",
    "gamma = torch.ones(C, **to_double)\n",
    "beta = torch.zeros(C,**to_double)\n",
    "bn_param = {'mode': 'train'}\n",
    "out, _ = SpatialBatchNorm.forward(x, gamma, beta, bn_param)\n",
    "print('After spatial batch normalization (gamma=1, beta=0)')\n",
    "\n",
    "print('  Shape:', out.shape)\n",
    "print('  Means:', out.mean(dim=(0, 2, 3)))\n",
    "print('  Stds :', out.std(dim=(0, 2, 3)))\n",
    "\n",
    "# Means should be close to beta and stds close to gamma\n",
    "gamma = torch.tensor([3, 4, 5], **to_double)\n",
    "beta = torch.tensor([6, 7, 8], **to_double)\n",
    "out, _ = SpatialBatchNorm.forward(x, gamma, beta, bn_param)\n",
    "print('After spatial batch normalization (gamma=', gamma.tolist(),\n",
    "      ', beta=', beta.tolist(), ')')\n",
    "print('  Shape:', out.shape)\n",
    "print('  Means:', out.mean(dim=(0, 2, 3)))\n",
    "print('  Stds :', out.std(dim=(0, 2, 3)))"
   ]
  },
  {
   "cell_type": "markdown",
   "metadata": {
    "button": false,
    "deletable": true,
    "id": "RxzqSGqZUr2J",
    "new_sheet": false,
    "run_control": {
     "read_only": false
    }
   },
   "source": [
    "Similar to the vanilla batch normalization implementation, run the following to sanity-check the test-time forward pass of spatial batch normalization."
   ]
  },
  {
   "cell_type": "code",
   "execution_count": null,
   "metadata": {
    "button": false,
    "deletable": true,
    "id": "7z2Eu2Xlw736",
    "new_sheet": false,
    "run_control": {
     "read_only": false
    }
   },
   "outputs": [],
   "source": [
    "from convolutional_networks import SpatialBatchNorm\n",
    "\n",
    "reset_seed(0)\n",
    "# Check the test-time forward pass by running the training-time\n",
    "# forward pass many times to warm up the running averages, and then\n",
    "# checking the means and variances of activations after a test-time\n",
    "# forward pass.\n",
    "N, C, H, W = 10, 4, 11, 12\n",
    "\n",
    "bn_param = {'mode': 'train'}\n",
    "gamma = torch.ones(C, **to_double)\n",
    "beta = torch.zeros(C, **to_double)\n",
    "for t in range(50):\n",
    "    x = 2.3 * torch.randn(N, C, H, W, **to_double) + 13\n",
    "    SpatialBatchNorm.forward(x, gamma, beta, bn_param)\n",
    "bn_param['mode'] = 'test'\n",
    "x = 2.3 * torch.randn(N, C, H, W, **to_double) + 13\n",
    "a_norm, _ = SpatialBatchNorm.forward(x, gamma, beta, bn_param)\n",
    "\n",
    "# Means should be close to zero and stds close to one, but will be\n",
    "# noisier than training-time forward passes.\n",
    "print('After spatial batch normalization (test-time):')\n",
    "print('  Means:', a_norm.mean(dim=(0, 2, 3)))\n",
    "print('  Stds :', a_norm.std(dim=(0, 2, 3)))"
   ]
  },
  {
   "cell_type": "markdown",
   "metadata": {
    "button": false,
    "deletable": true,
    "id": "dVdE3j3iw739",
    "new_sheet": false,
    "run_control": {
     "read_only": false
    }
   },
   "source": [
    "## Spatial batch normalization: backward\n",
    "Implement the backward pass for spatial batch normalization in the function `SpatialBatchNorm.backward`."
   ]
  },
  {
   "cell_type": "markdown",
   "metadata": {
    "button": false,
    "deletable": true,
    "id": "B5efGyfwU3rK",
    "new_sheet": false,
    "run_control": {
     "read_only": false
    }
   },
   "source": [
    "After implementing the backward pass for spatial batch normalization, run the following to perform numeric gradient checking on your implementation. You should see errors less than `1e-6`."
   ]
  },
  {
   "cell_type": "code",
   "execution_count": null,
   "metadata": {
    "button": false,
    "deletable": true,
    "id": "5Z2j4mQlw73_",
    "new_sheet": false,
    "run_control": {
     "read_only": false
    }
   },
   "outputs": [],
   "source": [
    "from convolutional_networks import SpatialBatchNorm\n",
    "\n",
    "reset_seed(0)\n",
    "N, C, H, W = 2, 3, 4, 5\n",
    "x = 5 * torch.randn(N, C, H, W, **to_double) + 12\n",
    "gamma = torch.randn(C, **to_double)\n",
    "beta = torch.randn(C, **to_double)\n",
    "dout = torch.randn(N, C, H, W, **to_double)\n",
    "\n",
    "bn_param = {'mode': 'train'}\n",
    "fx = lambda x: SpatialBatchNorm.forward(x, gamma, beta, bn_param)[0]\n",
    "fg = lambda a: SpatialBatchNorm.forward(x, gamma, beta, bn_param)[0]\n",
    "fb = lambda b: SpatialBatchNorm.forward(x, gamma, beta, bn_param)[0]\n",
    "\n",
    "dx_num = compute_numeric_gradient(fx, x, dout)\n",
    "da_num = compute_numeric_gradient(fg, gamma, dout)\n",
    "db_num = compute_numeric_gradient(fb, beta, dout)\n",
    "\n",
    "_, cache = SpatialBatchNorm.forward(x, gamma, beta, bn_param)\n",
    "dx, dgamma, dbeta = SpatialBatchNorm.backward(dout, cache)\n",
    "print('dx error:', rel_error(dx_num, dx))\n",
    "print('dgamma error:', rel_error(da_num, dgamma))\n",
    "print('dbeta error:', rel_error(db_num, dbeta))"
   ]
  },
  {
   "cell_type": "markdown",
   "metadata": {
    "button": false,
    "deletable": true,
    "id": "9qS4seVFEkAN",
    "new_sheet": false,
    "run_control": {
     "read_only": false
    }
   },
   "source": [
    "## \"Sandwich\" layers with batch normalization\n",
    "Again, below you will find sandwich layers that implement a few commonly used patterns for convolutional networks. We include the functions in `convolutional_networks.py` but you can see them here for your convenience.\n",
    "\n",
    "```python\n",
    "class Linear_BatchNorm_ReLU(object):\n",
    "\n",
    "    @staticmethod\n",
    "    def forward(x, w, b, gamma, beta, bn_param):\n",
    "        \"\"\"\n",
    "        Convenience layer that performs an linear transform, batch normalization,\n",
    "        and ReLU.\n",
    "        Inputs:\n",
    "        - x: Array of shape (N, D1); input to the linear layer\n",
    "        - w, b: Arrays of shape (D2, D2) and (D2,) giving the weight and bias for\n",
    "        the linear transform.\n",
    "        - gamma, beta: Arrays of shape (D2,) and (D2,) giving scale and shift\n",
    "        parameters for batch normalization.\n",
    "        - bn_param: Dictionary of parameters for batch normalization.\n",
    "        Returns:\n",
    "        - out: Output from ReLU, of shape (N, D2)\n",
    "        - cache: Object to give to the backward pass.\n",
    "        \"\"\"\n",
    "        a, fc_cache = Linear.forward(x, w, b)\n",
    "        a_bn, bn_cache = BatchNorm.forward(a, gamma, beta, bn_param)\n",
    "        out, relu_cache = ReLU.forward(a_bn)\n",
    "        cache = (fc_cache, bn_cache, relu_cache)\n",
    "        return out, cache\n",
    "\n",
    "    @staticmethod\n",
    "    def backward(dout, cache):\n",
    "        \"\"\"\n",
    "        Backward pass for the linear-batchnorm-relu convenience layer.\n",
    "        \"\"\"\n",
    "        fc_cache, bn_cache, relu_cache = cache\n",
    "        da_bn = ReLU.backward(dout, relu_cache)\n",
    "        da, dgamma, dbeta = BatchNorm.backward(da_bn, bn_cache)\n",
    "        dx, dw, db = Linear.backward(da, fc_cache)\n",
    "        return dx, dw, db, dgamma, dbeta\n",
    "\n",
    "\n",
    "class Conv_BatchNorm_ReLU(object):\n",
    "\n",
    "    @staticmethod\n",
    "    def forward(x, w, b, gamma, beta, conv_param, bn_param):\n",
    "        a, conv_cache = FastConv.forward(x, w, b, conv_param)\n",
    "        an, bn_cache = SpatialBatchNorm.forward(a, gamma, beta, bn_param)\n",
    "        out, relu_cache = ReLU.forward(an)\n",
    "        cache = (conv_cache, bn_cache, relu_cache)\n",
    "        return out, cache\n",
    "\n",
    "    @staticmethod\n",
    "    def backward(dout, cache):\n",
    "        conv_cache, bn_cache, relu_cache = cache\n",
    "        dan = ReLU.backward(dout, relu_cache)\n",
    "        da, dgamma, dbeta = SpatialBatchNorm.backward(dan, bn_cache)\n",
    "        dx, dw, db = FastConv.backward(da, conv_cache)\n",
    "        return dx, dw, db, dgamma, dbeta\n",
    "\n",
    "\n",
    "class Conv_BatchNorm_ReLU_Pool(object):\n",
    "\n",
    "    @staticmethod\n",
    "    def forward(x, w, b, gamma, beta, conv_param, bn_param, pool_param):\n",
    "        a, conv_cache = FastConv.forward(x, w, b, conv_param)\n",
    "        an, bn_cache = SpatialBatchNorm.forward(a, gamma, beta, bn_param)\n",
    "        s, relu_cache = ReLU.forward(an)\n",
    "        out, pool_cache = FastMaxPool.forward(s, pool_param)\n",
    "        cache = (conv_cache, bn_cache, relu_cache, pool_cache)\n",
    "        return out, cache\n",
    "\n",
    "    @staticmethod\n",
    "    def backward(dout, cache):\n",
    "        conv_cache, bn_cache, relu_cache, pool_cache = cache\n",
    "        ds = FastMaxPool.backward(dout, pool_cache)\n",
    "        dan = ReLU.backward(ds, relu_cache)\n",
    "        da, dgamma, dbeta = SpatialBatchNorm.backward(dan, bn_cache)\n",
    "        dx, dw, db = FastConv.backward(da, conv_cache)\n",
    "        return dx, dw, db, dgamma, dbeta\n",
    "```\n"
   ]
  },
  {
   "cell_type": "markdown",
   "metadata": {
    "button": false,
    "deletable": true,
    "id": "1C8k4fRgwyp1",
    "new_sheet": false,
    "run_control": {
     "read_only": false
    }
   },
   "source": [
    "## Convolutional nets with batch normalization\n",
    "Now that you have implemented batch normalization, go back to your `DeepConvnet`. Modify your implementation to add batch normalization.\n",
    "\n",
    "Concretely, when the `batchnorm` flag is set to `True` in the constructor, you should insert a batch normalization layer before each ReLU nonlinearity. The outputs from the last linear layer of the network should not be normalized.\n",
    "Again, we **STRONGLY** recommend you to use the fast/sandwich layers (already implemented for you) in your implementation.\n",
    "Once you are done, run the following to gradient-check your implementation.\n",
    "\n",
    "In the `reg=0` case, you should see errors less than `1e-5` for all weights and batchnorm parameters (beta and gamma); for biases, you might see high relative errors due to the extremely small magnitude of both numeric and analytic gradients, which is fine.\n",
    "\n",
    "In the `reg=3.14` case, you should see errors less than `1e-5` for all parameters."
   ]
  },
  {
   "cell_type": "code",
   "execution_count": null,
   "metadata": {
    "button": false,
    "deletable": true,
    "id": "E5sLZ6J1wyp6",
    "new_sheet": false,
    "run_control": {
     "read_only": false
    }
   },
   "outputs": [],
   "source": [
    "from convolutional_networks import DeepConvNet\n",
    "\n",
    "reset_seed(0)\n",
    "\n",
    "num_inputs = 2\n",
    "input_dims = (3, 8, 8)\n",
    "num_classes = 10\n",
    "X = torch.randn(num_inputs, *input_dims, **to_double)\n",
    "y = torch.randint(num_classes, size=(num_inputs,), **to_long)\n",
    "\n",
    "for reg in [0, 3.14]:\n",
    "    print('Running check with reg =', reg)\n",
    "    model = DeepConvNet(input_dims=input_dims, num_classes=num_classes,\n",
    "                        num_filters=[8, 8, 8],\n",
    "                        max_pools=[0, 2],\n",
    "                        reg=reg, batchnorm=True,\n",
    "                        weight_scale='kaiming',\n",
    "                        **to_double)\n",
    "\n",
    "    loss, grads = model.loss(X, y)\n",
    "\n",
    "    for param_name in sorted(grads):\n",
    "        f = lambda _: model.loss(X, y)[0]\n",
    "        grad_num = compute_numeric_gradient(f, model.params[param_name])\n",
    "        print('%s max relative error: %e' % (param_name, rel_error(grad_num, grads[param_name])))\n",
    "    print()"
   ]
  },
  {
   "cell_type": "markdown",
   "metadata": {
    "button": false,
    "deletable": true,
    "id": "T-D9TV8qwyp9",
    "new_sheet": false,
    "run_control": {
     "read_only": false
    }
   },
   "source": [
    "## Batchnorm for deep convolutional networks\n",
    "Run the following to train a deep convolutional network on a subset of 500 training examples both with and without batch normalization."
   ]
  },
  {
   "cell_type": "code",
   "execution_count": null,
   "metadata": {
    "button": false,
    "deletable": true,
    "id": "IrrKxsVGwyp_",
    "new_sheet": false,
    "run_control": {
     "read_only": false
    }
   },
   "outputs": [],
   "source": [
    "from convolutional_networks import DeepConvNet\n",
    "from fully_connected_networks import adam\n",
    "\n",
    "reset_seed(0)\n",
    "\n",
    "# Try training a deep convolutional net with batchnorm\n",
    "num_train = 500\n",
    "small_data = {\n",
    "    'X_train': data_dict['X_train'][:num_train],\n",
    "    'y_train': data_dict['y_train'][:num_train],\n",
    "    'X_val': data_dict['X_val'],\n",
    "    'y_val': data_dict['y_val'],\n",
    "}\n",
    "input_dims = data_dict['X_train'].shape[1:]\n",
    "\n",
    "bn_model = DeepConvNet(input_dims=input_dims, num_classes=10,\n",
    "                       num_filters=[16, 32, 32, 64, 64],\n",
    "                       max_pools=[0, 1, 2, 3, 4],\n",
    "                       weight_scale='kaiming',\n",
    "                       batchnorm=True,\n",
    "                       reg=1e-5,  **to_float)\n",
    "model = DeepConvNet(input_dims=input_dims, num_classes=10,\n",
    "                    num_filters=[16, 32, 32, 64, 64],\n",
    "                    max_pools=[0, 1, 2, 3, 4],\n",
    "                    weight_scale='kaiming',\n",
    "                    batchnorm=False,\n",
    "                    reg=1e-5,  **to_float)\n",
    "\n",
    "print('Solver with batchnorm:')\n",
    "bn_solver = Solver(bn_model, small_data,\n",
    "                   num_epochs=10, batch_size=100,\n",
    "                   update_rule=adam,\n",
    "                   optim_config={\n",
    "                     'learning_rate': 1e-3,\n",
    "                   },\n",
    "                   print_every=20, device='cuda')\n",
    "bn_solver.train()\n",
    "\n",
    "print('\\nSolver without batchnorm:')\n",
    "solver = Solver(model, small_data,\n",
    "                num_epochs=10, batch_size=100,\n",
    "                update_rule=adam,\n",
    "                optim_config={\n",
    "                  'learning_rate': 1e-3,\n",
    "                },\n",
    "                print_every=20, device='cuda')\n",
    "solver.train()"
   ]
  },
  {
   "cell_type": "markdown",
   "metadata": {
    "button": false,
    "deletable": true,
    "id": "4XZ7jZE9wyqE",
    "new_sheet": false,
    "run_control": {
     "read_only": false
    }
   },
   "source": [
    "Run the following to visualize the results from two networks trained above. You should find that using batch normalization helps the network to converge much faster."
   ]
  },
  {
   "cell_type": "code",
   "execution_count": null,
   "metadata": {
    "button": false,
    "deletable": true,
    "id": "1oBBnMuGehfi",
    "new_sheet": false,
    "run_control": {
     "read_only": false
    }
   },
   "outputs": [],
   "source": [
    "def plot_training_history_bn(title, label, solvers, bn_solvers, plot_fn, bl_marker='.', bn_marker='.', labels=None):\n",
    "    \"\"\"utility function for plotting training history\"\"\"\n",
    "    plt.title(title)\n",
    "    plt.xlabel(label)\n",
    "    bn_plots = [plot_fn(bn_solver) for bn_solver in bn_solvers]\n",
    "    bl_plots = [plot_fn(solver) for solver in solvers]\n",
    "    num_bn = len(bn_plots)\n",
    "    num_bl = len(bl_plots)\n",
    "    for i in range(num_bn):\n",
    "        label='w/ BN'\n",
    "        if labels is not None:\n",
    "            label += str(labels[i])\n",
    "        plt.plot(bn_plots[i], bn_marker, label=label)\n",
    "    for i in range(num_bl):\n",
    "        label='w/o BN'\n",
    "        if labels is not None:\n",
    "            label += str(labels[i])\n",
    "        plt.plot(bl_plots[i], bl_marker, label=label)\n",
    "    plt.legend(loc='lower center', ncol=num_bn+num_bl)\n",
    "\n",
    "plt.subplot(3, 1, 1)\n",
    "plot_training_history_bn('Training loss','Iteration', [solver], [bn_solver], \\\n",
    "                      lambda x: x.loss_history, bl_marker='-o', bn_marker='-o')\n",
    "plt.subplot(3, 1, 2)\n",
    "plot_training_history_bn('Training accuracy','Epoch', [solver], [bn_solver], \\\n",
    "                      lambda x: x.train_acc_history, bl_marker='-o', bn_marker='-o')\n",
    "plt.subplot(3, 1, 3)\n",
    "plot_training_history_bn('Validation accuracy','Epoch', [solver], [bn_solver], \\\n",
    "                      lambda x: x.val_acc_history, bl_marker='-o', bn_marker='-o')\n",
    "\n",
    "plt.gcf().set_size_inches(15, 25)\n",
    "plt.show()"
   ]
  },
  {
   "cell_type": "markdown",
   "metadata": {
    "button": false,
    "deletable": true,
    "id": "YV6-pJEdSXMh",
    "new_sheet": false,
    "run_control": {
     "read_only": false
    }
   },
   "source": [
    "## Batch normalization and learning rate\n",
    "We will now run a small experiment to study the interaction of batch normalization and learning rate.\n",
    "\n",
    "The first cell will train convolutional networks with different learning rates, and the second cell will plot training accuracy and validation set accuracy over time. You should find that using batch normalization helps the network to be less dependent to the learning rate."
   ]
  },
  {
   "cell_type": "code",
   "execution_count": null,
   "metadata": {
    "button": false,
    "deletable": true,
    "id": "yVSQ5SesSXMq",
    "new_sheet": false,
    "run_control": {
     "read_only": false
    },
    "tags": [
     "pdf-ignore-input"
    ]
   },
   "outputs": [],
   "source": [
    "from convolutional_networks import DeepConvNet\n",
    "from fully_connected_networks import adam\n",
    "\n",
    "reset_seed(0)\n",
    "\n",
    "# Try training a very deep net with batchnorm\n",
    "num_train = 5000\n",
    "small_data = {\n",
    "    'X_train': data_dict['X_train'][:num_train],\n",
    "    'y_train': data_dict['y_train'][:num_train],\n",
    "    'X_val': data_dict['X_val'],\n",
    "    'y_val': data_dict['y_val'],\n",
    "}\n",
    "input_dims = data_dict['X_train'].shape[1:]\n",
    "num_epochs = 5\n",
    "lrs = [2e-3, 5e-3, 1e-2]\n",
    "\n",
    "solvers = []\n",
    "for lr in lrs:\n",
    "    print('No normalization: learning rate =', lr)\n",
    "    model = DeepConvNet(input_dims=input_dims, num_classes=10,\n",
    "                        num_filters=[8, 8, 8, 8, 8, 8, 8],\n",
    "                        max_pools=[0, 2, 4, 6],\n",
    "                        weight_scale='kaiming',\n",
    "                        batchnorm=False,\n",
    "                        reg=1e-4, **to_float)\n",
    "    solver = Solver(model, small_data,\n",
    "                    num_epochs=num_epochs, batch_size=100,\n",
    "                    update_rule=adam,\n",
    "                    optim_config={\n",
    "                    'learning_rate': lr,\n",
    "                    },\n",
    "                    verbose=False, device='cuda')\n",
    "    solver.train()\n",
    "    solvers.append(solver)\n",
    "\n",
    "bn_solvers = []\n",
    "for lr in lrs:\n",
    "    print('Normalization: learning rate =', lr)\n",
    "    bn_model = DeepConvNet(input_dims=input_dims, num_classes=10,\n",
    "                            num_filters=[8, 8, 8, 8, 8, 8, 8],\n",
    "                            max_pools=[0, 2, 4, 6],\n",
    "                            weight_scale='kaiming',\n",
    "                            batchnorm=True,\n",
    "                            reg=1e-4, **to_float)\n",
    "    bn_solver = Solver(bn_model, small_data,\n",
    "                        num_epochs=num_epochs, batch_size=100,\n",
    "                        update_rule=adam,\n",
    "                        optim_config={\n",
    "                        'learning_rate': lr,\n",
    "                        },\n",
    "                        verbose=False, device='cuda')\n",
    "    bn_solver.train()\n",
    "    bn_solvers.append(bn_solver)"
   ]
  },
  {
   "cell_type": "code",
   "execution_count": null,
   "metadata": {
    "button": false,
    "deletable": true,
    "id": "kBE8AT5SSXMv",
    "new_sheet": false,
    "run_control": {
     "read_only": false
    }
   },
   "outputs": [],
   "source": [
    "plt.subplot(2, 1, 1)\n",
    "plot_training_history_bn('Training accuracy (Batch Normalization)','Epoch', solvers, bn_solvers, \\\n",
    "                      lambda x: x.train_acc_history, bl_marker='-^', bn_marker='-o', labels=[' lr={:.0e}'.format(lr) for lr in lrs])\n",
    "plt.subplot(2, 1, 2)\n",
    "plot_training_history_bn('Validation accuracy (Batch Normalization)','Epoch', solvers, bn_solvers, \\\n",
    "                      lambda x: x.val_acc_history, bl_marker='-^', bn_marker='-o', labels=[' lr={:.0e}'.format(lr) for lr in lrs])\n",
    "\n",
    "plt.gcf().set_size_inches(10, 15)\n",
    "plt.show()"
   ]
  },
  {
   "cell_type": "markdown",
   "metadata": {
    "button": false,
    "deletable": true,
    "id": "1D-y1IwsmrXI",
    "new_sheet": false,
    "run_control": {
     "read_only": false
    }
   },
   "source": [
    "# Submit Your Work\n",
    "After completing the assignment, please check if all outputs are displayed properly and the outputs are same as what you expected.\n",
    "Also, please check if you generated any additional cells and/or modified existing cells; you should not change them unless otherwise instructed with `TODO`.\n",
    "\n",
    "Run the following cell to create a `.zip` file for you to download and turn in. Your change may not always be automatically saved, so **please MANUALLY SAVE every `*.ipynb` and `*.py` files before executing the following cell.**\n",
    "\n",
    "In particular, if you come here by *Run all* command, **please MANUALLY SAVE this notebook and execute the following cell again;** otherwise, the ipynb file in the zip might not contain the last few execution results."
   ]
  },
  {
   "cell_type": "code",
   "execution_count": null,
   "metadata": {
    "button": false,
    "deletable": true,
    "id": "Uh-1eQIVm0vL",
    "new_sheet": false,
    "run_control": {
     "read_only": false
    }
   },
   "outputs": [],
   "source": [
    "from common.submit import make_submission\n",
    "\n",
    "make_submission(GOOGLE_DRIVE_PATH, 3, name, idnum)"
   ]
  }
 ],
 "metadata": {
  "accelerator": "GPU",
  "colab": {
   "provenance": [],
   "toc_visible": true
  },
  "kernelspec": {
   "display_name": "Python 3",
   "language": "python",
   "name": "python3"
  },
  "language_info": {
   "codemirror_mode": {
    "name": "ipython",
    "version": 3
   },
   "file_extension": ".py",
   "mimetype": "text/x-python",
   "name": "python",
   "nbconvert_exporter": "python",
   "pygments_lexer": "ipython3",
   "version": "3.5.0"
  }
 },
 "nbformat": 4,
 "nbformat_minor": 0
}
